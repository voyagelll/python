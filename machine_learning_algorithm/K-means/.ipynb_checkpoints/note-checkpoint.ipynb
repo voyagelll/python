{
 "cells": [
  {
   "cell_type": "code",
   "execution_count": 1,
   "metadata": {},
   "outputs": [
    {
     "data": {
      "text/plain": [
       "matrix([[-0.5335604 , -2.82756406],\n",
       "        [ 2.06636089, -2.55041043]])"
      ]
     },
     "execution_count": 1,
     "metadata": {},
     "output_type": "execute_result"
    }
   ],
   "source": [
    "from numpy import * \n",
    "\n",
    "# 数据导入\n",
    "def loadDataSet(fileName):\n",
    "    dataMat = []\n",
    "    fr = open(fileName)\n",
    "    for line in fr.readlines():\n",
    "        curLine = line.strip().split('\\t')\n",
    "        fltLine = list(map(float, curLine))\n",
    "        dataMat.append(fltLine)\n",
    "    return mat(dataMat)\n",
    "\n",
    "# 计算距离\n",
    "def distEclud(vecA, vecB):\n",
    "    return sqrt(sum(power(vecA-vecB, 2)))\n",
    "\n",
    "# 随机质心\n",
    "def randCent(dataSet, k):\n",
    "    n = shape(dataSet)[1]\n",
    "    centroids = mat(zeros((k, n)))\n",
    "    for j in range(n):\n",
    "        minJ = min(dataSet[:, j])\n",
    "        rangeJ = float(max(dataSet[:, j]) - minJ)\n",
    "        centroids[:, j] =  minJ + rangeJ * random.rand(k,1)\n",
    "    return centroids\n",
    "\n",
    "\n",
    "dataMat = loadDataSet('testSet.txt')\n",
    "randCent(dataMat, 2)"
   ]
  },
  {
   "cell_type": "code",
   "execution_count": 14,
   "metadata": {},
   "outputs": [
    {
     "data": {
      "text/plain": [
       "matrix([[-2.46154315,  2.78737555],\n",
       "        [-3.53973889, -2.89384326],\n",
       "        [ 2.6265299 ,  3.10868015],\n",
       "        [ 2.65077367, -2.79019029]])"
      ]
     },
     "execution_count": 14,
     "metadata": {},
     "output_type": "execute_result"
    }
   ],
   "source": [
    "\"\"\"\n",
    "    k均值据类算法\n",
    "    算法会创建k个质心，然后将每个点分配到最近的质心，在重新计算质心。该过程重复执行，知道质心不再改变\n",
    "\"\"\"\n",
    "def KMeans(dataSet, k, distMeas=distEclud, createCent=randCent):\n",
    "    m = shape(dataSet)[0]\n",
    "    clusterAssment = mat(zeros((m, 2)))\n",
    "    centroids = createCent(dataSet, k)\n",
    "    clusterChanged = True\n",
    "    while clusterChanged:\n",
    "        clusterChanged = False\n",
    "        for i in range(m):\n",
    "            minDist = inf; minIndex = -1\n",
    "            for j in range(k):\n",
    "                distJI = distMeas(centroids[j, :], dataSet[i, :])\n",
    "                if distJI < minDist:\n",
    "                    minDist = distJI; minIndex = j\n",
    "            if clusterAssment[i, 0] != minIndex:\n",
    "                clusterChanged = True\n",
    "            clusterAssment[i, :] = minIndex, minDist**2\n",
    "        for cent in range(k):\n",
    "            ptsInClust = dataSet[nonzero(clusterAssment[:, 0].A==cent)[0]]\n",
    "            centroids[cent, :] = mean(ptsInClust, axis=0)\n",
    "    return centroids, clusterAssment\n",
    "\n",
    "\n",
    "centroids, clusterAssemnt = KMeans(dataMat, 4)\n",
    "centroids"
   ]
  },
  {
   "cell_type": "code",
   "execution_count": null,
   "metadata": {},
   "outputs": [],
   "source": []
  }
 ],
 "metadata": {
  "kernelspec": {
   "display_name": "Python 3",
   "language": "python",
   "name": "python3"
  },
  "language_info": {
   "codemirror_mode": {
    "name": "ipython",
    "version": 3
   },
   "file_extension": ".py",
   "mimetype": "text/x-python",
   "name": "python",
   "nbconvert_exporter": "python",
   "pygments_lexer": "ipython3",
   "version": "3.7.3"
  }
 },
 "nbformat": 4,
 "nbformat_minor": 2
}
