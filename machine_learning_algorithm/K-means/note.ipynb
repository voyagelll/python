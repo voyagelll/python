{
 "cells": [
  {
   "cell_type": "code",
   "execution_count": 3,
   "metadata": {},
   "outputs": [
    {
     "data": {
      "text/plain": [
       "matrix([[-4.52320693, -0.62144201],\n",
       "        [-5.01031465,  2.7449943 ]])"
      ]
     },
     "execution_count": 3,
     "metadata": {},
     "output_type": "execute_result"
    }
   ],
   "source": [
    "from numpy import * \n",
    "\n",
    "# 数据导入\n",
    "def loadDataSet(fileName):\n",
    "    dataMat = []\n",
    "    fr = open(fileName)\n",
    "    for line in fr.readlines():\n",
    "        curLine = line.strip().split('\\t')\n",
    "        fltLine = list(map(float, curLine))\n",
    "        dataMat.append(fltLine)\n",
    "    return mat(dataMat)\n",
    "\n",
    "# 计算距离\n",
    "def distEclud(vecA, vecB):\n",
    "    return sqrt(sum(power(vecA-vecB, 2)))\n",
    "\n",
    "# 随机质心\n",
    "def randCent(dataSet, k):\n",
    "    n = shape(dataSet)[1]\n",
    "    centroids = mat(zeros((k, n)))\n",
    "    for j in range(n):\n",
    "        minJ = min(dataSet[:, j])\n",
    "        rangeJ = float(max(dataSet[:, j]) - minJ)\n",
    "        centroids[:, j] =  minJ + rangeJ * random.rand(k,1)\n",
    "    return centroids\n",
    "\n",
    "\n",
    "dataMat = loadDataSet('testSet.txt')\n",
    "randCent(dataMat, 2)"
   ]
  },
  {
   "cell_type": "code",
   "execution_count": 4,
   "metadata": {},
   "outputs": [
    {
     "data": {
      "text/plain": [
       "matrix([[ 2.6265299 ,  3.10868015],\n",
       "        [-3.53973889, -2.89384326],\n",
       "        [-2.46154315,  2.78737555],\n",
       "        [ 2.65077367, -2.79019029]])"
      ]
     },
     "execution_count": 4,
     "metadata": {},
     "output_type": "execute_result"
    }
   ],
   "source": [
    "\"\"\"\n",
    "    k均值据类算法\n",
    "    算法会创建k个质心，然后将每个点分配到最近的质心，在重新计算质心。该过程重复执行，知道质心不再改变\n",
    "\"\"\"\n",
    "def KMeans(dataSet, k, distMeas=distEclud, createCent=randCent):\n",
    "    m = shape(dataSet)[0] \n",
    "    clusterAssment = mat(zeros((m, 2)))\n",
    "    centroids = createCent(dataSet, k)\n",
    "    clusterChanged = True\n",
    "    while clusterChanged:\n",
    "        clusterChanged = False\n",
    "        for i in range(m):\n",
    "            minDist = inf; minIndex = -1\n",
    "            for j in range(k):\n",
    "                distJI = distMeas(centroids[j, :], dataSet[i, :])\n",
    "                if distJI < minDist:\n",
    "                    minDist = distJI; minIndex = j\n",
    "            if clusterAssment[i, 0] != minIndex:\n",
    "                clusterChanged = True\n",
    "            clusterAssment[i, :] = minIndex, minDist**2\n",
    "#         print(clusterAssment)\n",
    "        for cent in range(k):\n",
    "            ptsInClust = dataSet[nonzero(clusterAssment[:, 0].A==cent)[0]]\n",
    "            centroids[cent, :] = mean(ptsInClust, axis=0)\n",
    "    return centroids, clusterAssment\n",
    "\n",
    "\n",
    "centroids, clusterAssment = KMeans(dataMat, 4)\n",
    "centroids"
   ]
  },
  {
   "cell_type": "markdown",
   "metadata": {},
   "source": [
    "## 避免聚类收敛到局部最小\n",
    "* 合并最近的质心\n",
    "* 合并两个使得SSE增幅最小的质心"
   ]
  },
  {
   "cell_type": "code",
   "execution_count": 14,
   "metadata": {},
   "outputs": [
    {
     "data": {
      "text/plain": [
       "[-0.10361321250000004, 0.05430119999999998]"
      ]
     },
     "execution_count": 14,
     "metadata": {},
     "output_type": "execute_result"
    }
   ],
   "source": [
    "mean(dataMat, axis=0).tolist()[0]"
   ]
  },
  {
   "cell_type": "code",
   "execution_count": 25,
   "metadata": {},
   "outputs": [
    {
     "name": "stdout",
     "output_type": "stream",
     "text": [
      "sseSplit and notSplit 792.9168565373268 0.0\n",
      "The bestCentToSplit is : 0\n",
      "The len os bestClustAss is : 80\n",
      "sseSplit and notSplit 66.36683512000786 466.63278133614426\n",
      "sseSplit and notSplit 83.5874695564185 326.2840752011824\n",
      "The bestCentToSplit is : 1\n",
      "The len os bestClustAss is : 40\n",
      "sseSplit and notSplit 66.36683512000786 83.5874695564185\n",
      "sseSplit and notSplit 19.39517908946145 377.2703018926498\n",
      "sseSplit and notSplit 31.62960698022571 358.8853180661336\n",
      "The bestCentToSplit is : 0\n",
      "The len os bestClustAss is : 40\n"
     ]
    },
    {
     "data": {
      "text/plain": [
       "([matrix([[2.6265299 , 3.10868015]]),\n",
       "  matrix([[-3.38237045, -2.9473363 ]]),\n",
       "  matrix([[ 2.80293085, -2.7315146 ]]),\n",
       "  matrix([[-2.46154315,  2.78737555]])],\n",
       " matrix([[0.00000000e+00, 2.32019150e+00],\n",
       "         [3.00000000e+00, 1.39004893e+00],\n",
       "         [2.00000000e+00, 6.63839104e+00],\n",
       "         [1.00000000e+00, 4.16140951e+00],\n",
       "         [0.00000000e+00, 2.76967820e+00],\n",
       "         [3.00000000e+00, 2.80101213e+00],\n",
       "         [2.00000000e+00, 5.85909807e+00],\n",
       "         [1.00000000e+00, 1.50646425e+00],\n",
       "         [0.00000000e+00, 2.29348924e+00],\n",
       "         [3.00000000e+00, 6.45967483e-01],\n",
       "         [2.00000000e+00, 1.74010499e+00],\n",
       "         [1.00000000e+00, 3.77769471e-01],\n",
       "         [0.00000000e+00, 2.51695402e+00],\n",
       "         [3.00000000e+00, 1.38716420e-01],\n",
       "         [2.00000000e+00, 9.47633071e+00],\n",
       "         [1.00000000e+00, 9.97310599e+00],\n",
       "         [0.00000000e+00, 2.39726914e+00],\n",
       "         [3.00000000e+00, 3.10242360e+00],\n",
       "         [2.00000000e+00, 4.11084375e-01],\n",
       "         [1.00000000e+00, 4.74890795e-01],\n",
       "         [0.00000000e+00, 1.38706133e-01],\n",
       "         [3.00000000e+00, 5.10240996e-01],\n",
       "         [2.00000000e+00, 1.05700176e+00],\n",
       "         [1.00000000e+00, 2.90181828e-02],\n",
       "         [0.00000000e+00, 1.31601105e+00],\n",
       "         [3.00000000e+00, 9.08203769e-01],\n",
       "         [2.00000000e+00, 5.02608557e-01],\n",
       "         [1.00000000e+00, 4.57942717e-01],\n",
       "         [0.00000000e+00, 2.13786618e-01],\n",
       "         [3.00000000e+00, 4.05632356e+00],\n",
       "         [2.00000000e+00, 5.14171888e+00],\n",
       "         [1.00000000e+00, 5.56237495e-01],\n",
       "         [0.00000000e+00, 4.76142736e-01],\n",
       "         [3.00000000e+00, 1.54414110e+00],\n",
       "         [2.00000000e+00, 6.10930460e+00],\n",
       "         [1.00000000e+00, 9.47660177e-01],\n",
       "         [0.00000000e+00, 4.87745774e+00],\n",
       "         [3.00000000e+00, 3.12703929e+00],\n",
       "         [2.00000000e+00, 6.45118831e-03],\n",
       "         [1.00000000e+00, 3.01415411e-01],\n",
       "         [0.00000000e+00, 8.84955695e-01],\n",
       "         [3.00000000e+00, 7.98870968e-02],\n",
       "         [2.00000000e+00, 5.23673430e-01],\n",
       "         [1.00000000e+00, 3.24171404e+00],\n",
       "         [0.00000000e+00, 9.32523506e-02],\n",
       "         [3.00000000e+00, 9.13705455e-01],\n",
       "         [2.00000000e+00, 1.25766593e+00],\n",
       "         [1.00000000e+00, 4.09563895e-01],\n",
       "         [0.00000000e+00, 9.46987842e-01],\n",
       "         [3.00000000e+00, 2.63836399e+00],\n",
       "         [2.00000000e+00, 5.20371222e-01],\n",
       "         [1.00000000e+00, 1.86796790e+00],\n",
       "         [0.00000000e+00, 5.46768776e+00],\n",
       "         [3.00000000e+00, 5.73153563e+00],\n",
       "         [2.00000000e+00, 3.12040332e-01],\n",
       "         [1.00000000e+00, 3.93986735e-01],\n",
       "         [0.00000000e+00, 1.32864695e+00],\n",
       "         [3.00000000e+00, 2.38032454e-02],\n",
       "         [2.00000000e+00, 1.07872914e+00],\n",
       "         [1.00000000e+00, 4.35369355e-01],\n",
       "         [0.00000000e+00, 4.55502856e-01],\n",
       "         [3.00000000e+00, 1.96212809e-02],\n",
       "         [2.00000000e+00, 1.95213538e+00],\n",
       "         [1.00000000e+00, 1.54154401e+00],\n",
       "         [0.00000000e+00, 1.26364010e+00],\n",
       "         [3.00000000e+00, 1.33108375e+00],\n",
       "         [2.00000000e+00, 3.02422139e-01],\n",
       "         [1.00000000e+00, 5.58860689e-01],\n",
       "         [0.00000000e+00, 9.52516316e-02],\n",
       "         [3.00000000e+00, 6.25129762e-01],\n",
       "         [2.00000000e+00, 8.41875177e-01],\n",
       "         [1.00000000e+00, 2.06159470e+00],\n",
       "         [0.00000000e+00, 6.39227291e+00],\n",
       "         [3.00000000e+00, 2.01200372e-01],\n",
       "         [2.00000000e+00, 3.51030769e+00],\n",
       "         [1.00000000e+00, 9.83287604e-01],\n",
       "         [0.00000000e+00, 7.06014703e-02],\n",
       "         [3.00000000e+00, 2.59901305e-01],\n",
       "         [2.00000000e+00, 3.74491207e+00],\n",
       "         [1.00000000e+00, 2.32143993e+00]]))"
      ]
     },
     "execution_count": 25,
     "metadata": {},
     "output_type": "execute_result"
    }
   ],
   "source": [
    "\"\"\"\n",
    "    二分K 均值算法\n",
    "    将所有点作为一个簇，然后将该簇一分为二。之后选择其中一个簇（可以最大程度降低SSE（Sum of Square Error:误差平方和））\n",
    "    ，上述基于SSE不断重复，直到得到指定数目的簇\n",
    "\"\"\"\n",
    "def biKmeans(dataSet, k, distMeans=distEclud):\n",
    "    m = shape(dataSet)[0]\n",
    "    clusterAssment = mat(zeros((m,2)))\n",
    "    centroid0 = mean(dataSet, axis=0).tolist()[0]\n",
    "#     print(centroid0)\n",
    "    centList = [centroid0]\n",
    "#     print(centList)\n",
    "    for j in range(m):\n",
    "        clusterAssment[j, 1] = distMeans(mat(centroid0), dataSet[j, :]) ** 2\n",
    "    while (len(centList) < k):\n",
    "        lowestSSE = inf\n",
    "        for i in range(len(centList)):\n",
    "            ptsInCurrCluster = dataSet[nonzero(clusterAssment[:,0].A==i)[0], :]\n",
    "            centroidMat, splitClustAss = KMeans(ptsInCurrCluster, 2, distMeans)\n",
    "            sseSplit = sum(splitClustAss[:,1])\n",
    "            sseNotSplit = sum(clusterAssment[nonzero(clusterAssment[:,0].A!=i)[0], 1])\n",
    "            print(\"sseSplit and notSplit\", sseSplit, sseNotSplit)\n",
    "            if (sseSplit + sseNotSplit) < lowestSSE:\n",
    "                bestCentToSplit = i\n",
    "                bestNewCents = centroidMat\n",
    "                bestClustAss = splitClustAss.copy()\n",
    "                lowestSSE = sseSplit + sseNotSplit\n",
    "        bestClustAss[nonzero(bestClustAss[:, 0].A==1)[0], 0] = len(centList)\n",
    "        bestClustAss[nonzero(bestClustAss[:, 0].A==0)[0], 0] = bestCentToSplit\n",
    "        print(\"The bestCentToSplit is :\", bestCentToSplit)\n",
    "        print(\"The len os bestClustAss is :\", len(bestClustAss))\n",
    "        centList[bestCentToSplit] = bestNewCents[0,:]\n",
    "        centList.append(bestNewCents[1, :])\n",
    "        clusterAssment[nonzero(clusterAssment[:,0].A==bestCentToSplit)[0],:] = bestClustAss\n",
    "    return centList, clusterAssment\n",
    "        \n",
    "            \n",
    "\n",
    "biKmeans(dataMat, 4)"
   ]
  }
 ],
 "metadata": {
  "kernelspec": {
   "display_name": "Python 3",
   "language": "python",
   "name": "python3"
  },
  "language_info": {
   "codemirror_mode": {
    "name": "ipython",
    "version": 3
   },
   "file_extension": ".py",
   "mimetype": "text/x-python",
   "name": "python",
   "nbconvert_exporter": "python",
   "pygments_lexer": "ipython3",
   "version": "3.6.5"
  }
 },
 "nbformat": 4,
 "nbformat_minor": 2
}
