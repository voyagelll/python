{
 "cells": [
  {
   "cell_type": "code",
   "execution_count": 67,
   "metadata": {},
   "outputs": [
    {
     "data": {
      "text/plain": [
       "(60, 2)"
      ]
     },
     "execution_count": 67,
     "metadata": {},
     "output_type": "execute_result"
    }
   ],
   "source": [
    "from numpy import * \n",
    "\n",
    "# 数据导入\n",
    "def loadDataSet(fileName):\n",
    "    dataMat = []\n",
    "    fr = open(fileName)\n",
    "    for line in fr.readlines():\n",
    "        curLine = line.strip().split('\\t')\n",
    "        fltLine = list(map(float, curLine))\n",
    "        dataMat.append(fltLine)\n",
    "    return mat(dataMat)\n",
    "\n",
    "# 计算距离\n",
    "def distEclud(vecA, vecB):\n",
    "    return sqrt(sum(power(vecA-vecB, 2)))\n",
    "\n",
    "# 随机质心\n",
    "def randCent(dataSet, k):\n",
    "    n = shape(dataSet)[1]\n",
    "    centroids = mat(zeros((k, n)))\n",
    "    for j in range(n):\n",
    "        minJ = min(dataSet[:, j])\n",
    "        rangeJ = float(max(dataSet[:, j]) - minJ)\n",
    "        centroids[:, j] =  minJ + rangeJ * random.rand(k,1)\n",
    "    return centroids\n",
    "\n",
    "\n",
    "dataMat = loadDataSet('testSet2.txt')\n",
    "randCent(dataMat, 2)\n",
    "dataMat.shape"
   ]
  },
  {
   "cell_type": "code",
   "execution_count": 68,
   "metadata": {},
   "outputs": [
    {
     "data": {
      "text/plain": [
       "matrix([[ 2.93386365,  3.12782785],\n",
       "        [-0.45965615, -2.7782156 ],\n",
       "        [-2.94737575,  3.3263781 ]])"
      ]
     },
     "execution_count": 68,
     "metadata": {},
     "output_type": "execute_result"
    }
   ],
   "source": [
    "\"\"\"\n",
    "    k均值据类算法\n",
    "    算法会创建k个质心，然后将每个点分配到最近的质心，在重新计算质心。该过程重复执行，知道质心不再改变\n",
    "\"\"\"\n",
    "def KMeans(dataSet, k, distMeas=distEclud, createCent=randCent):\n",
    "    m = shape(dataSet)[0] \n",
    "    clusterAssment = mat(zeros((m, 2)))\n",
    "#     print(clusterAssment)\n",
    "    centroids = createCent(dataSet, k)\n",
    "    clusterChanged = True\n",
    "    while clusterChanged:\n",
    "        clusterChanged = False\n",
    "        for i in range(m):\n",
    "            minDist = inf; minIndex = -1\n",
    "            for j in range(k):\n",
    "                distJI = distMeas(centroids[j, :], dataSet[i, :])\n",
    "                if distJI < minDist:\n",
    "                    minDist = distJI; minIndex = j\n",
    "            if clusterAssment[i, 0] != minIndex:\n",
    "                clusterChanged = True\n",
    "            clusterAssment[i, :] = minIndex, minDist**2\n",
    "#         print(clusterAssment)\n",
    "        for cent in range(k):\n",
    "#             print(nonzero(clusterAssment[:,0].A == cent)[0])\n",
    "#             print((clusterAssment[:, 0].A==cent), type(clusterAssment[:,0].A==cent))\n",
    "            ptsInClust = dataSet[nonzero(clusterAssment[:, 0].A==cent)[0]]\n",
    "            centroids[cent, :] = mean(ptsInClust, axis=0)\n",
    "    return centroids, clusterAssment\n",
    "\n",
    "\n",
    "centroids, clusterAssment = KMeans(dataMat, 3)\n",
    "centroids"
   ]
  },
  {
   "cell_type": "code",
   "execution_count": 69,
   "metadata": {},
   "outputs": [
    {
     "data": {
      "text/plain": [
       "<matplotlib.collections.PathCollection at 0x82e5048>"
      ]
     },
     "execution_count": 69,
     "metadata": {},
     "output_type": "execute_result"
    },
    {
     "data": {
      "image/png": "[encoded data removed]",
      "text/plain": [
       "<Figure size 432x288 with 1 Axes>"
      ]
     },
     "metadata": {
      "needs_background": "light"
     },
     "output_type": "display_data"
    }
   ],
   "source": [
    "import matplotlib.pyplot as plt\n",
    "\n",
    "# dataMat.A\n",
    "plt.scatter(dataMat.A[:, 0], dataMat.A[:, 1])\n",
    "plt.scatter(centroids.A[:, 0], centroids.A[:, 1], marker='+', c='red', s=200)"
   ]
  },
  {
   "cell_type": "markdown",
   "metadata": {},
   "source": [
    "## 避免聚类收敛到局部最小\n",
    "* 合并最近的质心\n",
    "* 合并两个使得SSE增幅最小的质心"
   ]
  },
  {
   "cell_type": "code",
   "execution_count": 70,
   "metadata": {},
   "outputs": [
    {
     "data": {
      "text/plain": [
       "[-0.15772275000000002, 1.2253301166666664]"
      ]
     },
     "execution_count": 70,
     "metadata": {},
     "output_type": "execute_result"
    }
   ],
   "source": [
    "mean(dataMat, axis=0).tolist()[0]"
   ]
  },
  {
   "cell_type": "code",
   "execution_count": 76,
   "metadata": {
    "scrolled": false
   },
   "outputs": [
    {
     "name": "stdout",
     "output_type": "stream",
     "text": [
      "sseSplit and notSplit 541.2976292649145 0.0\n",
      "len(centList): 1, bestCentToSplit:0\n",
      "The bestCentToSplit is : 0\n",
      "The len os bestClustAss is : 60\n",
      "The bestNewCents: [[-1.70351595  0.27408125]\n",
      " [ 2.93386365  3.12782785]]\n",
      "The bestNewCents[:, 0] : [[-1.70351595  0.27408125]]\n",
      "centList:  [[-0.15772275000000002, 1.2253301166666664]]\n",
      "\n",
      "centList:  [matrix([[-1.70351595,  0.27408125]])]\n",
      "sseSplit and notSplit 67.2202000797829 39.52929868209309\n",
      "sseSplit and notSplit 23.79175073044931 501.7683305828214\n",
      "len(centList): 2, bestCentToSplit:0\n",
      "The bestCentToSplit is : 0\n",
      "The len os bestClustAss is : 40\n",
      "The bestNewCents: [[-2.94737575  3.3263781 ]\n",
      " [-0.45965615 -2.7782156 ]]\n",
      "The bestNewCents[:, 0] : [[-2.94737575  3.3263781 ]]\n",
      "centList:  [matrix([[-1.70351595,  0.27408125]]), matrix([[2.93386365, 3.12782785]])]\n",
      "\n",
      "centList:  [matrix([[-2.94737575,  3.3263781 ]]), matrix([[2.93386365, 3.12782785]])]\n",
      "centroids:  [matrix([[-2.94737575,  3.3263781 ]]), matrix([[2.93386365, 3.12782785]]), matrix([[-0.45965615, -2.7782156 ]])]\n",
      "clusterAssment:  [[1.00000000e+00 1.45461050e-01]\n",
      " [0.00000000e+00 6.80213825e-01]\n",
      " [2.00000000e+00 1.02184582e+00]\n",
      " [1.00000000e+00 1.34548760e+00]\n",
      " [0.00000000e+00 1.35376464e+00]\n",
      " [2.00000000e+00 3.87167519e+00]\n",
      " [1.00000000e+00 8.37259951e-01]\n",
      " [0.00000000e+00 2.20116272e-01]\n",
      " [2.00000000e+00 3.53809057e+00]\n",
      " [1.00000000e+00 7.44081160e+00]\n",
      " [0.00000000e+00 5.28070040e+00]\n",
      " [2.00000000e+00 2.56674394e-02]\n",
      " [1.00000000e+00 1.11946529e+00]\n",
      " [0.00000000e+00 1.67890884e-01]\n",
      " [2.00000000e+00 2.11734245e+00]\n",
      " [1.00000000e+00 1.49635209e+00]\n",
      " [0.00000000e+00 4.93628241e+00]\n",
      " [2.00000000e+00 9.76749869e-03]\n",
      " [1.00000000e+00 1.32453845e-01]\n",
      " [0.00000000e+00 6.39346045e-01]\n",
      " [2.00000000e+00 9.41791924e-01]\n",
      " [1.00000000e+00 1.72445523e+00]\n",
      " [0.00000000e+00 7.50682798e-01]\n",
      " [2.00000000e+00 1.48785604e-01]\n",
      " [1.00000000e+00 3.00429548e+00]\n",
      " [0.00000000e+00 5.15437527e+00]\n",
      " [2.00000000e+00 1.80316434e+00]\n",
      " [1.00000000e+00 2.74825782e+00]\n",
      " [0.00000000e+00 4.66860313e-01]\n",
      " [2.00000000e+00 1.28807718e+00]\n",
      " [1.00000000e+00 1.76804356e+00]\n",
      " [0.00000000e+00 3.54002368e+00]\n",
      " [2.00000000e+00 2.12516750e+00]\n",
      " [1.00000000e+00 1.14812052e+00]\n",
      " [0.00000000e+00 1.78247878e+00]\n",
      " [2.00000000e+00 8.79445646e-01]\n",
      " [1.00000000e+00 3.23315472e+00]\n",
      " [0.00000000e+00 7.43934371e-01]\n",
      " [2.00000000e+00 2.36276631e+00]\n",
      " [1.00000000e+00 2.59370616e-01]\n",
      " [0.00000000e+00 1.82015977e+00]\n",
      " [2.00000000e+00 2.10599050e+00]\n",
      " [1.00000000e+00 2.94567602e+00]\n",
      " [0.00000000e+00 2.49952822e+00]\n",
      " [2.00000000e+00 1.54957269e+00]\n",
      " [1.00000000e+00 9.45169633e-01]\n",
      " [0.00000000e+00 2.91966903e+00]\n",
      " [2.00000000e+00 1.13851139e+00]\n",
      " [1.00000000e+00 5.09476462e+00]\n",
      " [0.00000000e+00 1.64971118e+00]\n",
      " [2.00000000e+00 1.98934951e-01]\n",
      " [1.00000000e+00 1.50301593e+00]\n",
      " [0.00000000e+00 2.13359760e-01]\n",
      " [2.00000000e+00 2.16005416e+00]\n",
      " [1.00000000e+00 2.63462894e+00]\n",
      " [0.00000000e+00 7.60898177e-02]\n",
      " [2.00000000e+00 2.60198288e-01]\n",
      " [1.00000000e+00 3.05416591e-03]\n",
      " [0.00000000e+00 3.16776316e+00]\n",
      " [2.00000000e+00 1.61040000e+00]]\n"
     ]
    }
   ],
   "source": [
    "\"\"\"\n",
    "    二分K 均值算法\n",
    "    将所有点作为一个簇，然后将该簇一分为二。之后选择其中一个簇（可以最大程度降低SSE（Sum of Square Error:误差平方和））\n",
    "    ，上述基于SSE不断重复，直到得到指定数目的簇\n",
    "\"\"\"\n",
    "def biKmeans(dataSet, k, distMeans=distEclud):\n",
    "    m = shape(dataSet)[0]\n",
    "    clusterAssment = mat(zeros((m,2)))\n",
    "    centroid0 = mean(dataSet, axis=0).tolist()[0]\n",
    "#     print(centroid0)\n",
    "    centList = [centroid0]\n",
    "#     print(centList)\n",
    "    for j in range(m):\n",
    "        clusterAssment[j, 1] = distMeans(mat(centroid0), dataSet[j, :]) ** 2\n",
    "#     print(clusterAssment)\n",
    "    while (len(centList) < k):\n",
    "        lowestSSE = inf\n",
    "        for i in range(len(centList)):\n",
    "            ptsInCurrCluster = dataSet[nonzero(clusterAssment[:,0].A==i)[0], :]\n",
    "            centroidMat, splitClustAss = KMeans(ptsInCurrCluster, 2, distMeans)\n",
    "            sseSplit = sum(splitClustAss[:,1])\n",
    "            sseNotSplit = sum(clusterAssment[nonzero(clusterAssment[:,0].A!=i)[0], 1])\n",
    "            print(\"sseSplit and notSplit\", sseSplit, sseNotSplit)\n",
    "            if (sseSplit + sseNotSplit) < lowestSSE:\n",
    "                bestCentToSplit = i\n",
    "                bestNewCents = centroidMat\n",
    "                bestClustAss = splitClustAss.copy()\n",
    "                lowestSSE = sseSplit + sseNotSplit\n",
    "#         print(bestClustAss)\n",
    "        bestClustAss[nonzero(bestClustAss[:, 0].A==1)[0], 0] = len(centList)\n",
    "        bestClustAss[nonzero(bestClustAss[:, 0].A==0)[0], 0] = bestCentToSplit\n",
    "        print('len(centList): %s, bestCentToSplit:%s' % (len(centList), bestCentToSplit))\n",
    "        print(\"The bestCentToSplit is :\", bestCentToSplit)\n",
    "        print(\"The len os bestClustAss is :\", len(bestClustAss))\n",
    "        print(\"The bestNewCents:\", bestNewCents)\n",
    "        print(\"The bestNewCents[:, 0] :\", bestNewCents[0, :])\n",
    "        print(\"centList: \", centList)\n",
    "        print(\"\")\n",
    "        \n",
    "        centList[bestCentToSplit] = bestNewCents[0,:]\n",
    "        print(\"centList: \", centList)\n",
    "#         print(clusterAssment)\n",
    "        centList.append(bestNewCents[1, :])\n",
    "        clusterAssment[nonzero(clusterAssment[:,0].A==bestCentToSplit)[0], :] = bestClustAss\n",
    "    return centList, clusterAssment\n",
    "        \n",
    "\n",
    "centroids, clusterAssment = biKmeans(dataMat, 3)\n",
    "print(\"centroids: \", centroids)\n",
    "print(\"clusterAssment: \", clusterAssment)"
   ]
  },
  {
   "cell_type": "code",
   "execution_count": 94,
   "metadata": {},
   "outputs": [
    {
     "name": "stdout",
     "output_type": "stream",
     "text": [
      "[matrix([[-2.94737575,  3.3263781 ]]), matrix([[2.93386365, 3.12782785]]), matrix([[-0.45965615, -2.7782156 ]])]\n",
      "[-2.94737575, 2.93386365, -0.45965614999999993] [3.3263781000000003, 3.12782785, -2.7782156000000002]\n"
     ]
    },
    {
     "data": {
      "text/plain": [
       "<matplotlib.collections.PathCollection at 0x7d798d0>"
      ]
     },
     "execution_count": 94,
     "metadata": {},
     "output_type": "execute_result"
    },
    {
     "data": {
      "image/png": "[encoded data removed]",
      "text/plain": [
       "<Figure size 432x288 with 1 Axes>"
      ]
     },
     "metadata": {
      "needs_background": "light"
     },
     "output_type": "display_data"
    }
   ],
   "source": [
    "import matplotlib.pyplot as plt\n",
    "\n",
    "\n",
    "# centroids\n",
    "x = []\n",
    "y = []\n",
    "for i in centroids:\n",
    "    x.append(i.A[0][0])\n",
    "    y.append(i.A[0][1])\n",
    "print(centroids)\n",
    "print(x, y)\n",
    "# dataMat.A\n",
    "plt.scatter(dataMat.A[:, 0], dataMat.A[:, 1])\n",
    "plt.scatter(x, y, marker='+', c='red', s=200)\n"
   ]
  },
  {
   "cell_type": "code",
   "execution_count": null,
   "metadata": {},
   "outputs": [],
   "source": []
  }
 ],
 "metadata": {
  "kernelspec": {
   "display_name": "Python 3",
   "language": "python",
   "name": "python3"
  },
  "language_info": {
   "codemirror_mode": {
    "name": "ipython",
    "version": 3
   },
   "file_extension": ".py",
   "mimetype": "text/x-python",
   "name": "python",
   "nbconvert_exporter": "python",
   "pygments_lexer": "ipython3",
   "version": "3.7.3"
  }
 },
 "nbformat": 4,
 "nbformat_minor": 2
}
