{
 "cells": [
  {
   "cell_type": "code",
   "execution_count": 1,
   "metadata": {},
   "outputs": [
    {
     "name": "stdout",
     "output_type": "stream",
     "text": [
      "C1: [frozenset({1}), frozenset({2}), frozenset({3}), frozenset({4}), frozenset({5})]\n",
      "\n",
      "L1: [frozenset({5}), frozenset({2}), frozenset({3}), frozenset({1})]\n",
      "\n",
      "suppData0 {frozenset({1}): 0.5, frozenset({3}): 0.75, frozenset({4}): 0.25, frozenset({2}): 0.75, frozenset({5}): 0.75}\n"
     ]
    }
   ],
   "source": [
    "\"\"\"\n",
    "    该算法首先会生成所有单个物品的列表，接着扫描交易记录来查看哪些项集满足最小支持度的要求，\n",
    "    那些不满足最小支持度的集合会被去掉。然后对剩下的集合进行组合以生成两个元素的项集。接下来，\n",
    "    再重复扫描交易记录，去掉不满足最小支持度的项集，该过程重复，直到所有项集都被去掉\n",
    "\"\"\"\n",
    "\n",
    "# 辅助函数\n",
    "def loadDataSet():\n",
    "    return [[1,3,4],[2,3,5],[1,2,3,5],[2,5]]\n",
    "\n",
    "def createC1(dataSet):\n",
    "    C1 = []\n",
    "    for transaction in dataSet:\n",
    "        for item in transaction:\n",
    "            if [item] not in C1:\n",
    "                C1.append([item])\n",
    "    C1.sort()\n",
    "    return list(map(frozenset, C1))\n",
    "#     return map(setify, C1)\n",
    "\n",
    "def scanD(D, Ck, minSupport):\n",
    "    ssCnt = {}\n",
    "    for tid in D:\n",
    "        tid = set(tid)\n",
    "        # print(tid, list(Ck))\n",
    "        for can in Ck:\n",
    "            if can.issubset(tid):\n",
    "                if not ssCnt.get(can, 0):\n",
    "                    ssCnt[can] = 1\n",
    "                else:\n",
    "                    ssCnt[can] += 1\n",
    "    numItems = float(len(D))\n",
    "    retList = []\n",
    "    supportData ={}\n",
    "    for key in ssCnt:\n",
    "        support = ssCnt[key] / numItems\n",
    "        if support >= minSupport:\n",
    "            retList.insert(0, key)\n",
    "        supportData[key] = support\n",
    "    return retList, supportData\n",
    "\n",
    "\n",
    "dataSet = loadDataSet()\n",
    "\n",
    "C1 = createC1(dataSet)\n",
    "print(\"C1:\", C1)\n",
    "print(\"\")\n",
    "\n",
    "L1, suppData0 = scanD(dataSet, C1, 0.5)\n",
    "print(\"L1:\", L1)\n",
    "print(\"\")\n",
    "print(\"suppData0\", suppData0)"
   ]
  },
  {
   "cell_type": "code",
   "execution_count": 53,
   "metadata": {
    "scrolled": false
   },
   "outputs": [
    {
     "name": "stdout",
     "output_type": "stream",
     "text": [
      "L: [[frozenset({5}), frozenset({2}), frozenset({3}), frozenset({1})], [frozenset({2, 3}), frozenset({3, 5}), frozenset({2, 5}), frozenset({1, 3})], [frozenset({2, 3, 5})]]\n",
      "\n",
      "supportData: {frozenset({1}): 0.5, frozenset({3}): 0.75, frozenset({4}): 0.25, frozenset({2}): 0.75, frozenset({5}): 0.75, frozenset({1, 3}): 0.5, frozenset({2, 5}): 0.75, frozenset({3, 5}): 0.5, frozenset({2, 3}): 0.5, frozenset({1, 5}): 0.25, frozenset({1, 2}): 0.25, frozenset({2, 3, 5}): 0.5}\n"
     ]
    }
   ],
   "source": [
    "# Apriori 算法\n",
    "def apriorGen(Lk, k):\n",
    "    retList = []\n",
    "    lenLk = len(Lk)\n",
    "    for i in range(lenLk):\n",
    "        for j in range(i+1, lenLk):\n",
    "            L1 = list(Lk[i])[:k-2]; L2 = list(Lk[j])[:k-2]\n",
    "            L1.sort(); L2.sort()\n",
    "        if L1 == L2:\n",
    "            retList.append(L1[i] | L1[j])\n",
    "    return retList\n",
    "\n",
    "\n",
    "# print(aprioriGen([frozenset({5}), frozenset({2}), frozenset({3}), frozenset({1})], 2))\n",
    "# print(aprioriGen([frozenset({2, 3}), frozenset({3, 5}), frozenset({2, 5}), frozenset({1, 3})], 3))\n",
    "\n",
    "\n",
    "def apriori(dataSet, minSupport=0.5):\n",
    "    C1 = createC1(dataSet)\n",
    "    D = list(map(set, dataSet))\n",
    "    L1, supportData = scanD(D, C1, minSupport)\n",
    "    L = [L1]\n",
    "    k = 2\n",
    "    while (len(L[k-2]) > 2):\n",
    "        Ck = aprioriGen(L[k-2], k)\n",
    "        Lk, supK = scanD(D, Ck, minSupport)\n",
    "#         print('supportData:', supportData)\n",
    "#         print('supK:', supK)\n",
    "        supportData.update(supK)\n",
    "        L.append(Lk)\n",
    "        k += 1\n",
    "    return L, supportData\n",
    "\n",
    "\n",
    "L, supportData = apriori(dataSet)\n",
    "print(\"L:\", L)\n",
    "print(\"\")\n",
    "print(\"supportData:\", supportData)"
   ]
  },
  {
   "cell_type": "markdown",
   "metadata": {},
   "source": [
    "### 发现毒蘑菇的相似特征"
   ]
  },
  {
   "cell_type": "markdown",
   "metadata": {},
   "source": []
  },
  {
   "cell_type": "code",
   "execution_count": 57,
   "metadata": {},
   "outputs": [
    {
     "name": "stdout",
     "output_type": "stream",
     "text": [
      "[frozenset({2}), frozenset({3})]\n",
      "[frozenset({3}), frozenset({5})]\n",
      "[frozenset({2}), frozenset({5})]\n",
      "frozenset({5}) --> frozenset({2}) conf: 1.0\n",
      "frozenset({2}) --> frozenset({5}) conf: 1.0\n",
      "[frozenset({1}), frozenset({3})]\n",
      "frozenset({1}) --> frozenset({3}) conf: 1.0\n",
      "[frozenset({2}), frozenset({3}), frozenset({5})]\n",
      "H= [frozenset({2}), frozenset({3}), frozenset({5})]\n",
      "H[0]= frozenset({2})\n",
      "len(freqSet)= 3\n",
      "Hmp1= [frozenset({2, 3}), frozenset({2, 5}), frozenset({3, 5})]\n",
      "Hmp1= []\n"
     ]
    },
    {
     "data": {
      "text/plain": [
       "[(frozenset({5}), frozenset({2}), 1.0),\n",
       " (frozenset({2}), frozenset({5}), 1.0),\n",
       " (frozenset({1}), frozenset({3}), 1.0)]"
      ]
     },
     "execution_count": 57,
     "metadata": {},
     "output_type": "execute_result"
    }
   ],
   "source": [
    "\n",
    "def generateRules(L, supportData, minConf=0.7):\n",
    "    \"\"\"\n",
    "    函数说明：关联规则生成函数\n",
    "    频繁项集列表：L\n",
    "    包含那些频繁项集支持数据的字典：supportData\n",
    "    最小可信度阈值：minConf\n",
    "    \"\"\"\n",
    "    bigRuleList = []           #bigRuleList是包含可信度的规则列表，此处进行初始化\n",
    "    for i in range(1, len(L)):  \n",
    "        #遍历(1, len(L))是要为L[i]提供索引值\n",
    "        #为什么要从(1, len(L))循环？\n",
    "        #注意到 L[0]是单元素项集，我们无法从单元素项集中构建关联规则；另外，L[len(L)]是空集\n",
    "        #所以，只获取有两个或者更多集合的项目\n",
    "        for freqSet in L[i]:\n",
    "            H1 = [frozenset([item]) for item in freqSet]\n",
    "            print(H1)\n",
    "            #该函数遍历L中的每一个频繁项集并对每个频繁项集创建只包含单个元素集合的列表H1\n",
    "            if (i > 1):\n",
    "            #如果频繁项集元素数目超过2,那么会考虑对它做进一步的合并\n",
    "                rulesFromConseq(freqSet, H1, supportData, bigRuleList, minConf)\n",
    "            else:              \n",
    "                calcConf(freqSet, H1, supportData, bigRuleList, minConf)\n",
    "    return bigRuleList\n",
    " \n",
    "#\n",
    "def calcConf(freqSet, H, supportData, brl, minConf=0.7):\n",
    "    \"\"\"\n",
    "    函数说明：计算项集中只有两个元素的可信度。计算规则的可信度以及找到满足最小可信度要求的规则\n",
    "    频繁项集：freqSet\n",
    "    频繁项集中每个元素frozenset后组成的列表(可以出现在规则右部的元素列表,见234-236行):H\n",
    "    包含那些频繁项集支持数据的字典：supportData\n",
    "    包含可信度的规则列表bigRuleList：brl\n",
    "    最小可信度阈值：minConf\n",
    "    \"\"\"\n",
    "    prunedH = []                            #建立一个满足最小可信度要求的规则列表\n",
    "    for conseq in H:                        #后件，遍历 H中的所有项集并计算它们的可信度值\n",
    "        conf = supportData[freqSet]/supportData[freqSet-conseq] #可信度计算\n",
    "        if conf >= minConf:\n",
    "            print (freqSet-conseq,'-->',conseq,'conf:',conf)\n",
    "            #如果某条规则满足最小可信度值,那么将这些规则输出到屏幕显示p\n",
    "            brl.append((freqSet-conseq, conseq, conf))\n",
    "            #添加到规则里，brl是前面通过检查的bigRuleList\n",
    "            prunedH.append(conseq)          #同样需要放入列表到后面检查\n",
    "    return prunedH                          #返回一个满足最小可信度要求的规则列表\n",
    " \n",
    "#合并\n",
    "def rulesFromConseq(freqSet, H, supportData, brl, minConf=0.7):\n",
    "    \"\"\"\n",
    "    函数说明：从最初的项集中生成更多的关联规则\n",
    "    频繁项集：freqSet\n",
    "    频繁项集中每个元素frozenset后组成的列表(可以出现在规则右部的元素列表,见236-238行):H\n",
    "    包含那些频繁项集支持数据的字典：supportData\n",
    "    包含可信度的规则列表bigRuleList：brl\n",
    "    最小可信度阈值：minConf\n",
    "    \"\"\"\n",
    "    m = len(H[0])                                #计算H中的频繁项集大小m\n",
    "    print('H=',H)\n",
    "    print('H[0]=',H[0])\n",
    "    if (len(freqSet) > (m + 1)): \n",
    "        print('len(freqSet)=',len(freqSet))\n",
    "        #查看频繁项集频繁项集freqSet是否大到可以移除大小为m的子集\n",
    "        Hmp1 = aprioriGen(H, m+1)      #使用aprioriGen()来生成H中元素的无重复组合\n",
    "        print('Hmp1=',Hmp1)\n",
    "        Hmp1 = calcConf(freqSet, Hmp1, supportData, brl, minConf)   #计算可信度\n",
    "        print('Hmp1=',Hmp1)\n",
    "        if (len(Hmp1) > 1):    \n",
    "            print('len(Hmp1)=',len(Hmp1))\n",
    "            #满足最小可信度要求的规则列表多于1,则递归来判断是否可以进一步组合这些规则\n",
    "            rulesFromConseq(freqSet, Hmp1, supportData, brl, minConf)\n",
    "\n",
    "\n",
    "generateRules(L, supportData)"
   ]
  },
  {
   "cell_type": "code",
   "execution_count": 56,
   "metadata": {},
   "outputs": [
    {
     "name": "stdout",
     "output_type": "stream",
     "text": [
      "frozenset({5}) --> frozenset({2}) conf: 1.0\n",
      "frozenset({2}) --> frozenset({5}) conf: 1.0\n",
      "frozenset({1}) --> frozenset({3}) conf: 1.0\n",
      "frozenset({5}) --> frozenset({2}) conf: 1.0\n",
      "frozenset({2}) --> frozenset({5}) conf: 1.0\n",
      "frozenset({1}) --> frozenset({3}) conf: 1.0\n",
      "frozenset({5}) --> frozenset({2}) conf: 1.0\n",
      "frozenset({2}) --> frozenset({5}) conf: 1.0\n",
      "frozenset({1}) --> frozenset({3}) conf: 1.0\n",
      "frozenset({5}) --> frozenset({2}) conf: 1.0\n",
      "frozenset({2}) --> frozenset({5}) conf: 1.0\n",
      "frozenset({1}) --> frozenset({3}) conf: 1.0\n"
     ]
    },
    {
     "ename": "TypeError",
     "evalue": "object of type 'NoneType' has no len()",
     "output_type": "error",
     "traceback": [
      "\u001b[1;31m---------------------------------------------------------------------------\u001b[0m",
      "\u001b[1;31mTypeError\u001b[0m                                 Traceback (most recent call last)",
      "\u001b[1;32m<ipython-input-56-7d073c7f5fdd>\u001b[0m in \u001b[0;36m<module>\u001b[1;34m()\u001b[0m\n\u001b[0;32m     32\u001b[0m \u001b[1;33m\u001b[0m\u001b[0m\n\u001b[0;32m     33\u001b[0m \u001b[1;33m\u001b[0m\u001b[0m\n\u001b[1;32m---> 34\u001b[1;33m \u001b[0mrules\u001b[0m \u001b[1;33m=\u001b[0m \u001b[0mgenerateRules\u001b[0m\u001b[1;33m(\u001b[0m\u001b[0mL\u001b[0m\u001b[1;33m,\u001b[0m \u001b[0msupportData\u001b[0m\u001b[1;33m)\u001b[0m\u001b[1;33m\u001b[0m\u001b[0m\n\u001b[0m\u001b[0;32m     35\u001b[0m \u001b[0mrules\u001b[0m\u001b[1;33m\u001b[0m\u001b[0m\n",
      "\u001b[1;32m<ipython-input-56-7d073c7f5fdd>\u001b[0m in \u001b[0;36mgenerateRules\u001b[1;34m(L, supportData, minConf)\u001b[0m\n\u001b[0;32m      7\u001b[0m                 \u001b[0mH1\u001b[0m \u001b[1;33m=\u001b[0m \u001b[1;33m[\u001b[0m\u001b[0mfrozenset\u001b[0m\u001b[1;33m(\u001b[0m\u001b[1;33m[\u001b[0m\u001b[0mitem\u001b[0m\u001b[1;33m]\u001b[0m\u001b[1;33m)\u001b[0m \u001b[1;32mfor\u001b[0m \u001b[0mitem\u001b[0m \u001b[1;32min\u001b[0m \u001b[0mfreqSet\u001b[0m\u001b[1;33m]\u001b[0m\u001b[1;33m\u001b[0m\u001b[0m\n\u001b[0;32m      8\u001b[0m                 \u001b[1;32mif\u001b[0m \u001b[1;33m(\u001b[0m\u001b[0mi\u001b[0m\u001b[1;33m>\u001b[0m\u001b[1;36m1\u001b[0m\u001b[1;33m)\u001b[0m\u001b[1;33m:\u001b[0m\u001b[1;33m\u001b[0m\u001b[0m\n\u001b[1;32m----> 9\u001b[1;33m                     \u001b[0mrulesFromConseq\u001b[0m\u001b[1;33m(\u001b[0m\u001b[0mfreqSet\u001b[0m\u001b[1;33m,\u001b[0m \u001b[0mH1\u001b[0m\u001b[1;33m,\u001b[0m \u001b[0msupportData\u001b[0m\u001b[1;33m,\u001b[0m \u001b[0mbigRuleList\u001b[0m\u001b[1;33m,\u001b[0m \u001b[0mminConf\u001b[0m\u001b[1;33m)\u001b[0m\u001b[1;33m\u001b[0m\u001b[0m\n\u001b[0m\u001b[0;32m     10\u001b[0m                 \u001b[1;32melse\u001b[0m\u001b[1;33m:\u001b[0m\u001b[1;33m\u001b[0m\u001b[0m\n\u001b[0;32m     11\u001b[0m                     \u001b[0mcalcConf\u001b[0m\u001b[1;33m(\u001b[0m\u001b[0mfreqSet\u001b[0m\u001b[1;33m,\u001b[0m \u001b[0mH1\u001b[0m\u001b[1;33m,\u001b[0m \u001b[0msupportData\u001b[0m\u001b[1;33m,\u001b[0m \u001b[0mbigRuleList\u001b[0m\u001b[1;33m,\u001b[0m \u001b[0mminConf\u001b[0m\u001b[1;33m)\u001b[0m\u001b[1;33m\u001b[0m\u001b[0m\n",
      "\u001b[1;32m<ipython-input-56-7d073c7f5fdd>\u001b[0m in \u001b[0;36mrulesFromConseq\u001b[1;34m(freqSet, H, supportData, brl, minConf)\u001b[0m\n\u001b[0;32m     28\u001b[0m         \u001b[0mHmp1\u001b[0m \u001b[1;33m=\u001b[0m \u001b[0maprioriGen\u001b[0m\u001b[1;33m(\u001b[0m\u001b[0mH\u001b[0m\u001b[1;33m,\u001b[0m \u001b[0mm\u001b[0m\u001b[1;33m+\u001b[0m\u001b[1;36m1\u001b[0m\u001b[1;33m)\u001b[0m\u001b[1;33m\u001b[0m\u001b[0m\n\u001b[0;32m     29\u001b[0m         \u001b[0mHmp1\u001b[0m \u001b[1;33m=\u001b[0m \u001b[0mcalcConf\u001b[0m\u001b[1;33m(\u001b[0m\u001b[0mfreqSet\u001b[0m\u001b[1;33m,\u001b[0m \u001b[0mHmp1\u001b[0m\u001b[1;33m,\u001b[0m \u001b[0msupportData\u001b[0m\u001b[1;33m,\u001b[0m \u001b[0mbrl\u001b[0m\u001b[1;33m,\u001b[0m \u001b[0mminConf\u001b[0m\u001b[1;33m)\u001b[0m\u001b[1;33m\u001b[0m\u001b[0m\n\u001b[1;32m---> 30\u001b[1;33m         \u001b[1;32mif\u001b[0m \u001b[1;33m(\u001b[0m\u001b[0mlen\u001b[0m\u001b[1;33m(\u001b[0m\u001b[0mHmp1\u001b[0m\u001b[1;33m)\u001b[0m\u001b[1;33m>\u001b[0m\u001b[1;36m1\u001b[0m\u001b[1;33m)\u001b[0m\u001b[1;33m:\u001b[0m\u001b[1;33m\u001b[0m\u001b[0m\n\u001b[0m\u001b[0;32m     31\u001b[0m             \u001b[0mrulesFromConseq\u001b[0m\u001b[1;33m(\u001b[0m\u001b[0mfreqSet\u001b[0m\u001b[1;33m,\u001b[0m \u001b[0mHmp1\u001b[0m\u001b[1;33m,\u001b[0m \u001b[0msupportData\u001b[0m\u001b[1;33m,\u001b[0m \u001b[0mbrl\u001b[0m\u001b[1;33m,\u001b[0m \u001b[0mminConf\u001b[0m\u001b[1;33m)\u001b[0m\u001b[1;33m\u001b[0m\u001b[0m\n\u001b[0;32m     32\u001b[0m \u001b[1;33m\u001b[0m\u001b[0m\n",
      "\u001b[1;31mTypeError\u001b[0m: object of type 'NoneType' has no len()"
     ]
    }
   ],
   "source": [
    "# 关系规则生成函数\n",
    "def generateRules(L, supportData, minConf=0.7):\n",
    "    bigRuleList = []\n",
    "    for i in range(1, len(L)):\n",
    "        for freqSet in L[i]:\n",
    "            for freqSet in L[i]:\n",
    "                H1 = [frozenset([item]) for item in freqSet]\n",
    "                if (i>1):\n",
    "                    rulesFromConseq(freqSet, H1, supportData, bigRuleList, minConf)\n",
    "                else:\n",
    "                    calcConf(freqSet, H1, supportData, bigRuleList, minConf)\n",
    "    return bigRuleList\n",
    "\n",
    "\n",
    "def calcConf(freqSet, H, supportData, brl, minConf):\n",
    "    prunedH = []\n",
    "    for conseq in H:\n",
    "        conf = supportData[freqSet] / supportData[freqSet - conseq]\n",
    "        if conf >= minConf:\n",
    "            print(freqSet-conseq, '-->', conseq, 'conf:', conf)\n",
    "            brl.append((freqSet-conseq, conseq, conf))\n",
    "            prunedH.append(conseq)\n",
    "            \n",
    "            \n",
    "def rulesFromConseq(freqSet, H, supportData, brl, minConf=0.7):\n",
    "    m = len(H[0])\n",
    "    if (len(freqSet) > (m+1)):\n",
    "        Hmp1 = aprioriGen(H, m+1)\n",
    "        Hmp1 = calcConf(freqSet, Hmp1, supportData, brl, minConf)\n",
    "        if (len(Hmp1)>1):\n",
    "            rulesFromConseq(freqSet, Hmp1, supportData, brl, minConf)\n",
    "            \n",
    "    \n",
    "rules = generateRules(L, supportData)\n",
    "rules"
   ]
  }
 ],
 "metadata": {
  "kernelspec": {
   "display_name": "Python 3",
   "language": "python",
   "name": "python3"
  },
  "language_info": {
   "codemirror_mode": {
    "name": "ipython",
    "version": 3
   },
   "file_extension": ".py",
   "mimetype": "text/x-python",
   "name": "python",
   "nbconvert_exporter": "python",
   "pygments_lexer": "ipython3",
   "version": "3.6.5"
  }
 },
 "nbformat": 4,
 "nbformat_minor": 2
}
