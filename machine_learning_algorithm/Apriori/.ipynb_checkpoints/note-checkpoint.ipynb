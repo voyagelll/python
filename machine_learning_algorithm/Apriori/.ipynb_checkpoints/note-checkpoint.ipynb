{
 "cells": [
  {
   "cell_type": "code",
   "execution_count": 10,
   "metadata": {},
   "outputs": [
    {
     "name": "stdout",
     "output_type": "stream",
     "text": [
      "<map object at 0x000001DB862975C0>\n"
     ]
    }
   ],
   "source": [
    "\"\"\"\n",
    "    该算法首先会生成所有单个物品的列表，接着扫描交易记录来查看哪些项集满足最小支持度的要求，\n",
    "    那些不满足最小支持度的集合会被去掉。然后对剩下的集合进行组合以生成两个元素的项集。接下来，\n",
    "    再重复扫描交易记录，去掉不满足最小支持度的项集，该过程重复，直到所有项集都被去掉\n",
    "\"\"\"\n",
    "\n",
    "def loadDataSet():\n",
    "    return [[1,3,4],[2,3,5],[1,2,3,5],[2,5]]\n",
    "\n",
    "def setify(c):\n",
    "    return set(c)\n",
    "\n",
    "def createC1(dataSet):\n",
    "    C1 = []\n",
    "    for transaction in dataSet:\n",
    "        for item in transaction:\n",
    "            if [item] not in C1:\n",
    "                C1.append([item])\n",
    "    C1.sort()\n",
    "#     return map(frozenset, C1)\n",
    "    return map(setify, C1)\n",
    "\n",
    "def scanD(D, Ck, minSupport):\n",
    "    ssCnt = {}\n",
    "    for tid in D:\n",
    "        tid = set(tid)\n",
    "        for can in Ck:\n",
    "            if can.issubset(tid):\n",
    "                if ssCnt.get(can, 0):\n",
    "                    ssCnt[can] = 1\n",
    "                else:\n",
    "                    ssCnt[can] += 1\n",
    "    print(ssCnt)\n",
    "    numItems = float(len(D))\n",
    "    retList = []\n",
    "    supportData ={}\n",
    "    for key in ssCnt:\n",
    "        support = ssCnt[key] / numItems\n",
    "        if support >= minSupport:\n",
    "            retList.insert(0, key)\n",
    "        supportData[key] = support\n",
    "    return retList, supportData\n",
    "\n",
    "\n",
    "dataSet = loadDataSet()\n",
    "\n",
    "C1 = createC1(dataSet)\n",
    "print(C1)\n",
    "\n",
    "# L1, suppData0 = scanD(dataSet, C1, 0.5)\n",
    "# L1"
   ]
  },
  {
   "cell_type": "code",
   "execution_count": 5,
   "metadata": {},
   "outputs": [
    {
     "ename": "AttributeError",
     "evalue": "'frozenset' object has no attribute 'add'",
     "output_type": "error",
     "traceback": [
      "\u001b[1;31m---------------------------------------------------------------------------\u001b[0m",
      "\u001b[1;31mAttributeError\u001b[0m                            Traceback (most recent call last)",
      "\u001b[1;32m<ipython-input-5-1b1badbf202d>\u001b[0m in \u001b[0;36m<module>\u001b[1;34m()\u001b[0m\n\u001b[0;32m      1\u001b[0m \u001b[0md\u001b[0m \u001b[1;33m=\u001b[0m \u001b[0mfrozenset\u001b[0m\u001b[1;33m(\u001b[0m\u001b[1;33m{\u001b[0m\u001b[1;34m'a'\u001b[0m\u001b[1;33m}\u001b[0m\u001b[1;33m)\u001b[0m\u001b[1;33m\u001b[0m\u001b[0m\n\u001b[1;32m----> 2\u001b[1;33m \u001b[0md\u001b[0m\u001b[1;33m.\u001b[0m\u001b[0madd\u001b[0m\u001b[1;33m(\u001b[0m\u001b[1;34m'a'\u001b[0m\u001b[1;33m)\u001b[0m\u001b[1;33m\u001b[0m\u001b[0m\n\u001b[0m",
      "\u001b[1;31mAttributeError\u001b[0m: 'frozenset' object has no attribute 'add'"
     ]
    }
   ],
   "source": [
    "d = frozenset({'a'})"
   ]
  }
 ],
 "metadata": {
  "kernelspec": {
   "display_name": "Python 3",
   "language": "python",
   "name": "python3"
  },
  "language_info": {
   "codemirror_mode": {
    "name": "ipython",
    "version": 3
   },
   "file_extension": ".py",
   "mimetype": "text/x-python",
   "name": "python",
   "nbconvert_exporter": "python",
   "pygments_lexer": "ipython3",
   "version": "3.6.5"
  }
 },
 "nbformat": 4,
 "nbformat_minor": 2
}
