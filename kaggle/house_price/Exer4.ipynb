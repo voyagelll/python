{
 "cells": [
  {
   "cell_type": "code",
   "execution_count": null,
   "metadata": {},
   "outputs": [],
   "source": [
    "import pandas as pd \n",
    "pd.set_option('display.max_columns', 100)\n",
    "pd.set_option('display.max_rows', 200)\n",
    "import numpy as np \n",
    "from scipy.stats import skew\n",
    "import scipy.stats as stats \n",
    "\n",
    "import seaborn as sns \n",
    "import matplotlib.pyplot as plt "
   ]
  },
  {
   "cell_type": "code",
   "execution_count": null,
   "metadata": {},
   "outputs": [],
   "source": [
    "train = pd.read_csv('train.csv')\n",
    "test = pd.read_csv('test.csv')"
   ]
  },
  {
   "cell_type": "code",
   "execution_count": null,
   "metadata": {},
   "outputs": [],
   "source": [
    "print(train.shape)\n",
    "print(test.shape)"
   ]
  },
  {
   "cell_type": "code",
   "execution_count": null,
   "metadata": {
    "scrolled": true
   },
   "outputs": [],
   "source": [
    "df = pd.concat(objs=[train, test], axis=0, sort=False, ignore_index=True)\n",
    "df.head()"
   ]
  },
  {
   "cell_type": "code",
   "execution_count": null,
   "metadata": {
    "scrolled": true
   },
   "outputs": [],
   "source": [
    "df.describe()"
   ]
  },
  {
   "cell_type": "markdown",
   "metadata": {},
   "source": [
    "## 将nan值统一填充为 np.nan"
   ]
  },
  {
   "cell_type": "code",
   "execution_count": null,
   "metadata": {},
   "outputs": [],
   "source": [
    "df = df.fillna(np.nan)"
   ]
  },
  {
   "cell_type": "markdown",
   "metadata": {},
   "source": [
    "## MSZoning 根据Neighborhood 填充缺失值"
   ]
  },
  {
   "cell_type": "code",
   "execution_count": null,
   "metadata": {},
   "outputs": [],
   "source": [
    "index = df.MSZoning[df.MSZoning.isnull()==True].index\n",
    "\n",
    "df.loc[index[:3], 'MSZoning'] = 'IDOTRR'\n",
    "df.loc[index[3:], 'MSZoning'] = 'Mitchel'"
   ]
  },
  {
   "cell_type": "markdown",
   "metadata": {},
   "source": [
    "## 将 YearBuilt, YearRemodAdd, GarageYrAdd, YrSold, MssubClass 类型转为 object"
   ]
  },
  {
   "cell_type": "code",
   "execution_count": null,
   "metadata": {},
   "outputs": [],
   "source": [
    "df['YearBuilt'] = df['YearBuilt'].apply(str)\n",
    "df['YearRemodAdd'] = df['YearRemodAdd'].apply(str)\n",
    "df['GarageYrBlt'] = df['GarageYrBlt'].apply(str)\n",
    "df['YrSold'] = df['YrSold'].apply(str)\n",
    "df['MSSubClass'] = df['MSSubClass'].apply(str)"
   ]
  },
  {
   "cell_type": "code",
   "execution_count": null,
   "metadata": {},
   "outputs": [],
   "source": [
    "num_cols = df.dtypes[df.dtypes != 'object'].index\n",
    "obj_cols = df.dtypes[df.dtypes == 'object'].index\n",
    "num_cols"
   ]
  },
  {
   "cell_type": "markdown",
   "metadata": {},
   "source": [
    "## GrLivArea 去除 4500 以上的两个离群点"
   ]
  },
  {
   "cell_type": "code",
   "execution_count": null,
   "metadata": {
    "scrolled": true
   },
   "outputs": [],
   "source": [
    "df['GrLivArea'].skew()\n",
    "\n",
    "fig = plt.figure()\n",
    "ax = fig.add_subplot(1,1,1)\n",
    "stats.probplot(df['GrLivArea'].apply(np.log1p), plot=ax)\n",
    "df['GrLivArea'] = df['GrLivArea'].apply(np.log1p)\n",
    "\n",
    "df.drop(train['GrLivArea'][train['GrLivArea']>4500].index, axis=0, inplace=True)"
   ]
  },
  {
   "cell_type": "code",
   "execution_count": null,
   "metadata": {
    "scrolled": true
   },
   "outputs": [],
   "source": [
    "fig = plt.figure(figsize=(12,4))\n",
    "ax1 = fig.add_subplot(1,2,1)\n",
    "sns.regplot(df['GrLivArea'], df['SalePrice'])\n",
    "ax2 = fig.add_subplot(1,2,2)\n",
    "sns.scatterplot(df['GrLivArea'], df['SalePrice'])"
   ]
  },
  {
   "cell_type": "markdown",
   "metadata": {},
   "source": [
    "## 画出与 SalePrice 相关系数较高的前几个特征与 SalePrice 的散点分布图"
   ]
  },
  {
   "cell_type": "code",
   "execution_count": null,
   "metadata": {},
   "outputs": [],
   "source": [
    "sns.pairplot(df[:len(train)].loc[:,['SalePrice', 'OverallQual', 'GrLivArea', 'GarageArea', 'TotalBsmtSF']].fillna(0))"
   ]
  },
  {
   "cell_type": "markdown",
   "metadata": {},
   "source": [
    "## 缺失值处理"
   ]
  },
  {
   "cell_type": "code",
   "execution_count": null,
   "metadata": {},
   "outputs": [],
   "source": [
    "# 缺失值个数 <=10 \n",
    "df['SaleType'].fillna('WD', inplace=True)\n",
    "df['Electrical'].fillna('SBrkr', inplace=True)\n",
    "\n",
    "df['GarageArea'].fillna(df['GarageArea'].mean(), inplace=True)\n",
    "df['GarageCars'].fillna(df['GarageCars'].mean(), inplace=True)\n",
    "df['Exterior1st'].fillna('VinylSd', inplace=True)\n",
    "df['Exterior2nd'].fillna('VinylSd', inplace=True)\n",
    "df['KitchenQual'].fillna(df['KitchenQual'].mode()[0], inplace=True)\n",
    "\n",
    "df['TotalBsmtSF'].fillna(0, inplace=True)\n",
    "df['BsmtFinSF1'].fillna(0, inplace=True)\n",
    "df['BsmtUnfSF'].fillna(0, inplace=True)\n",
    "df['BsmtFinSF2'].fillna(0, inplace=True)\n",
    "\n",
    "df['Functional'].fillna(df['Functional'].mode()[0], inplace=True)\n",
    "df['BsmtHalfBath'].fillna(df['BsmtHalfBath'].mode()[0], inplace=True)\n",
    "df['BsmtFullBath'].fillna(df['BsmtFullBath'].mode()[0], inplace=True)\n",
    "# df['NumOfBath'].fillna(df['NumOfBath'].mode()[0], inplace=True)\n",
    "df['Utilities'].fillna(df['Utilities'].mode()[0], inplace=True)"
   ]
  },
  {
   "cell_type": "code",
   "execution_count": null,
   "metadata": {},
   "outputs": [],
   "source": [
    "# 缺失值个数 >= 10\n",
    "features = ['MasVnrType', 'BsmtFinType1', 'BsmtFinType2', 'BsmtQual', 'BsmtCond','BsmtExposure',\\\n",
    "    'GarageType', 'GarageCond', 'GarageQual','GarageFinish', 'FireplaceQu',\\\n",
    "    'Fence', 'Alley', 'MiscFeature', 'PoolQC']\n",
    "\n",
    "for feature in features:\n",
    "    df[feature].fillna('None', inplace=True)"
   ]
  },
  {
   "cell_type": "code",
   "execution_count": null,
   "metadata": {},
   "outputs": [],
   "source": [
    "df['LotFrontage'].fillna(df['LotFrontage'].mean(), inplace=True)"
   ]
  },
  {
   "cell_type": "code",
   "execution_count": null,
   "metadata": {},
   "outputs": [],
   "source": [
    "df['MasVnrArea'].fillna(df['MasVnrArea'].mean(), inplace=True)"
   ]
  },
  {
   "cell_type": "code",
   "execution_count": null,
   "metadata": {
    "scrolled": false
   },
   "outputs": [],
   "source": [
    "df.isnull().sum()[df.isnull().sum()!=0].sort_values()"
   ]
  },
  {
   "cell_type": "code",
   "execution_count": null,
   "metadata": {
    "scrolled": true
   },
   "outputs": [],
   "source": [
    "df.corr()['SalePrice'].sort_values(ascending=False)"
   ]
  },
  {
   "cell_type": "markdown",
   "metadata": {},
   "source": [
    "## OverallQual"
   ]
  },
  {
   "cell_type": "code",
   "execution_count": null,
   "metadata": {},
   "outputs": [],
   "source": [
    "# sns.scatterplot(df['LotFrontage'].fillna(0), df['SalePrice'])\n",
    "fig = plt.figure()\n",
    "ax1 = fig.add_subplot()\n",
    "sns.scatterplot(df['OverallQual'], df['SalePrice'])"
   ]
  },
  {
   "cell_type": "code",
   "execution_count": null,
   "metadata": {
    "scrolled": true
   },
   "outputs": [],
   "source": [
    "fig = plt.figure()\n",
    "ax1 = fig.add_subplot(1,1,1)\n",
    "sns.barplot(df['GarageCars'], df['SalePrice'])"
   ]
  },
  {
   "cell_type": "code",
   "execution_count": null,
   "metadata": {
    "scrolled": true
   },
   "outputs": [],
   "source": [
    "sns.distplot(df['GarageArea'].fillna(0))\n",
    "df['GarageArea'].fillna(df['GarageArea'].mean()).skew()\n",
    "# df[df['GarageArea'].isnull()]"
   ]
  },
  {
   "cell_type": "code",
   "execution_count": null,
   "metadata": {
    "scrolled": true
   },
   "outputs": [],
   "source": [
    "fig = plt.figure()\n",
    "ax = fig.add_subplot(111)\n",
    "stats.probplot(df['TotalBsmtSF'], plot=ax)\n",
    "# sns.distplot(df['TotalBsmtSF'])"
   ]
  },
  {
   "cell_type": "markdown",
   "metadata": {},
   "source": [
    "## 1stFlrSF"
   ]
  },
  {
   "cell_type": "code",
   "execution_count": null,
   "metadata": {
    "scrolled": true
   },
   "outputs": [],
   "source": [
    "sns.distplot(df['1stFlrSF'].apply(np.log1p))\n",
    "df['1stFlrSF'].apply(np.log1p).skew()\n",
    "df['1stFlrSF'] = df['1stFlrSF'].apply(np.log1p)"
   ]
  },
  {
   "cell_type": "code",
   "execution_count": null,
   "metadata": {},
   "outputs": [],
   "source": [
    "train.groupby('TotRmsAbvGrd')['SalePrice'].mean().plot()"
   ]
  },
  {
   "cell_type": "code",
   "execution_count": null,
   "metadata": {},
   "outputs": [],
   "source": [
    "train.groupby(['YearBuilt'])['SalePrice'].mean().plot()\n",
    "# train.groupby(['YearBuilt'])['SalePrice'].mean().plot()"
   ]
  },
  {
   "cell_type": "code",
   "execution_count": null,
   "metadata": {},
   "outputs": [],
   "source": [
    "df['YearRemodAdd-YearBuilt'] = df['YearRemodAdd'].apply(np.int) - df['YearBuilt'].apply(np.int)\n",
    "df.groupby('YearRemodAdd-YearBuilt')['SalePrice'].count().plot()"
   ]
  },
  {
   "cell_type": "code",
   "execution_count": null,
   "metadata": {},
   "outputs": [],
   "source": [
    "df['LotArea'] = df['LotArea'].apply(np.log1p)\n",
    "# ss.distplot(df['LotArea'])\n",
    "\n",
    "# fig = plt.figure()\n",
    "# ax = fig.add_subplot(111)\n",
    "# stats.probplot(df['LotArea'], plot=ax)"
   ]
  },
  {
   "cell_type": "code",
   "execution_count": null,
   "metadata": {},
   "outputs": [],
   "source": [
    "df['Overall'] = df['OverallCond'] * df['OverallQual']\n",
    "df['NumOfBath'] = df['BsmtFullBath'] + df['BsmtHalfBath']*0.5 + df['FullBath'] + df['HalfBath']*0.5\n",
    "df['PorchSF'] = df['OpenPorchSF'] + df['EnclosedPorch'] + df['3SsnPorch'] + df['ScreenPorch']\n",
    "df['TotalSF'] = df['1stFlrSF'] + df['2ndFlrSF'] + df['TotalBsmtSF']\n",
    "\n",
    "df = df.drop(['Utilities','Street','PoolQC'], axis=1)"
   ]
  },
  {
   "cell_type": "code",
   "execution_count": null,
   "metadata": {},
   "outputs": [],
   "source": [
    "df.columns"
   ]
  },
  {
   "cell_type": "code",
   "execution_count": null,
   "metadata": {},
   "outputs": [],
   "source": [
    "df['HasPool'] = df['PoolArea'].apply(lambda x: 1 if x>0 else 0)\n",
    "df['HasSecFlr'] = df['2ndFlrSF'].apply(lambda x: 1 if x>0 else 0)\n",
    "df['HasGarage'] = df['GarageArea'].apply(lambda x: 1 if x>0 else 0)\n",
    "df['HasBamt'] = df['TotalBsmtSF'].apply(lambda x: 1 if x>0 else 0)\n",
    "# df['HasFirePlace'] = df['Fireplaces'].apply(lambda x: 1 if x>0 else 0)"
   ]
  },
  {
   "cell_type": "code",
   "execution_count": null,
   "metadata": {},
   "outputs": [],
   "source": [
    "df.corr().sort_values(by=['SalePrice'], ascending=False).SalePrice"
   ]
  },
  {
   "cell_type": "markdown",
   "metadata": {},
   "source": [
    "## Modeling"
   ]
  },
  {
   "cell_type": "code",
   "execution_count": null,
   "metadata": {
    "scrolled": true
   },
   "outputs": [],
   "source": [
    "from sklearn.grid_search import GridSearchCV \n",
    "from sklearn.model_selection import train_test_split, cross_val_score\n",
    "from sklearn.linear_model import LassoCV, Lasso\n",
    "from sklearn.svm import SVR\n",
    "\n",
    "import lightgbm as lgb\n",
    "from xgboost import XGBRegressor"
   ]
  },
  {
   "cell_type": "code",
   "execution_count": null,
   "metadata": {},
   "outputs": [],
   "source": [
    "df_copy = df.copy()\n",
    "df_y = np.log1p(df_copy['SalePrice'])\n",
    "df_copy.drop(['Id', 'SalePrice'], axis=1, inplace=True)\n",
    "df_x = pd.get_dummies(df_copy)\n",
    "x = df_x[:len(train)-2]\n",
    "y = df_y[:len(train)-2]\n",
    "test_x = df_x[len(train)-2:]\n",
    "\n",
    "train_x, valid_x, train_y, valid_y = train_test_split(x, y, test_size=0.2, random_state=42)"
   ]
  },
  {
   "cell_type": "markdown",
   "metadata": {},
   "source": [
    "## lightgbm"
   ]
  },
  {
   "cell_type": "code",
   "execution_count": null,
   "metadata": {
    "scrolled": true
   },
   "outputs": [],
   "source": [
    "paramaters = {\n",
    "    'max_depth':[4],\n",
    "    'num_leaves':[3],\n",
    "    'feature_fraction': [0.2],\n",
    "    'cat_smooth': [1],\n",
    "    'bagging_fraction':[0.9],\n",
    "    'bagging_freq': [3],\n",
    "    'cat_smooth':[0]\n",
    "    \n",
    "}\n",
    "\n",
    "gbm = lgb.LGBMRegressor(\n",
    "                    objective='regression',\n",
    "                    learning_rate = 0.01,\n",
    "                    n_estimators=5000,\n",
    "                    verbose = -1\n",
    ")\n",
    "\n",
    "gscv = GridSearchCV(gbm,\n",
    "                    param_grid=paramaters,\n",
    "                    cv=5,\n",
    "                    n_jobs=-1\n",
    "                   )\n",
    "gscv.fit(x, y)"
   ]
  },
  {
   "cell_type": "code",
   "execution_count": null,
   "metadata": {},
   "outputs": [],
   "source": [
    "gscv.best_params_"
   ]
  },
  {
   "cell_type": "code",
   "execution_count": null,
   "metadata": {},
   "outputs": [],
   "source": [
    "gscv.best_score_"
   ]
  },
  {
   "cell_type": "code",
   "execution_count": null,
   "metadata": {
    "scrolled": true
   },
   "outputs": [],
   "source": [
    "np.sqrt(np.sum(np.power((gscv.best_estimator_.predict(valid_x) - valid_y),2))/len(valid_y))"
   ]
  },
  {
   "cell_type": "markdown",
   "metadata": {},
   "source": [
    "## xgboost"
   ]
  },
  {
   "cell_type": "code",
   "execution_count": null,
   "metadata": {},
   "outputs": [],
   "source": [
    "params = {\n",
    "    'max_depth': [3]\n",
    "}\n",
    "xgboost = XGBRegressor(learning_rate=0.01,\n",
    "                       n_estimators=3460,\n",
    "                       min_child_weight=0,\n",
    "                       gamma = 0,\n",
    "                       subsample=0.7,\n",
    "                       colsample_bytree=0.7,\n",
    "                       objective='reg:squarederror',\n",
    "                       nthread=-1,\n",
    "                       scale_pos_weight=1,\n",
    "                       seed=27,\n",
    "                       reg_alpha=0.00006,\n",
    "                       random_state=42)\n",
    "gscv_xg = GridSearchCV(xgboost,\n",
    "                       cv=5,\n",
    "                       param_grid=params,\n",
    "                       n_jobs=-1)\n",
    "gscv_xg.fit(x, y)"
   ]
  },
  {
   "cell_type": "code",
   "execution_count": null,
   "metadata": {},
   "outputs": [],
   "source": [
    "gscv_xg.best_score_"
   ]
  },
  {
   "cell_type": "code",
   "execution_count": null,
   "metadata": {},
   "outputs": [],
   "source": [
    "np.sqrt(np.sum(np.power((gscv_xg.best_estimator_.predict(valid_x) - valid_y),2))/len(valid_y))"
   ]
  },
  {
   "cell_type": "markdown",
   "metadata": {},
   "source": [
    "## svr"
   ]
  },
  {
   "cell_type": "code",
   "execution_count": null,
   "metadata": {},
   "outputs": [],
   "source": [
    "params = {\n",
    "    'epsilon' : [0.001],\n",
    "    'gamma' : [0.0001]\n",
    "}\n",
    "svr = SVR(C=20)\n",
    "gscv_svr = GridSearchCV(svr,\n",
    "                        cv=5,\n",
    "                       param_grid = params,\n",
    "                       n_jobs = -1)\n",
    "gscv_svr.fit(x, y)"
   ]
  },
  {
   "cell_type": "code",
   "execution_count": null,
   "metadata": {},
   "outputs": [],
   "source": [
    "gscv_svr.best_score_"
   ]
  },
  {
   "cell_type": "code",
   "execution_count": null,
   "metadata": {},
   "outputs": [],
   "source": [
    "gscv_svr.best_params_"
   ]
  },
  {
   "cell_type": "code",
   "execution_count": null,
   "metadata": {},
   "outputs": [],
   "source": [
    "np.sqrt(np.sum(np.power((gscv_svr.best_estimator_.predict(valid_x) - valid_y),2))/len(valid_y))"
   ]
  },
  {
   "cell_type": "markdown",
   "metadata": {},
   "source": [
    "## Lasso"
   ]
  },
  {
   "cell_type": "code",
   "execution_count": null,
   "metadata": {
    "scrolled": true
   },
   "outputs": [],
   "source": [
    "params = {\n",
    "    'alpha': [0.0001, 0.0003, 0.001] \n",
    "}\n",
    "lasso = Lasso(max_iter=1e5,\n",
    "             random_state=42)\n",
    "gscv_lasso = GridSearchCV(lasso,\n",
    "                          cv=3\n",
    "                         param_grid = params,\n",
    "                         n_jobs = -1)\n",
    "gscv_lasso.fit(x, y)"
   ]
  },
  {
   "cell_type": "code",
   "execution_count": null,
   "metadata": {},
   "outputs": [],
   "source": [
    "print('Best score: ', gscv_lasso.best_score_)\n",
    "print('Best params: ', gscv_lasso.best_params_)"
   ]
  },
  {
   "cell_type": "code",
   "execution_count": null,
   "metadata": {},
   "outputs": [],
   "source": [
    "np.sqrt(np.sum(np.power((gscv_lasso.best_estimator_.predict(valid_x) - valid_y),2))/len(valid_y))"
   ]
  },
  {
   "cell_type": "code",
   "execution_count": null,
   "metadata": {},
   "outputs": [],
   "source": []
  },
  {
   "cell_type": "code",
   "execution_count": null,
   "metadata": {},
   "outputs": [],
   "source": [
    "pred_lgb = gscv.predict(test_x)\n",
    "pred_xg = gscv_xg.best_estimator_.predict(test_x)\n",
    "pred = 0.3*pred_lgb + 0.7*pred_xg\n",
    "\n",
    "submission = pd.DataFrame({'Id':test.Id, 'SalePrice':np.expm1(pred)})\n",
    "submission.to_csv('submission_2020_02_19.csv', index=False)"
   ]
  },
  {
   "cell_type": "code",
   "execution_count": null,
   "metadata": {},
   "outputs": [],
   "source": []
  },
  {
   "cell_type": "code",
   "execution_count": null,
   "metadata": {},
   "outputs": [],
   "source": []
  },
  {
   "cell_type": "code",
   "execution_count": null,
   "metadata": {},
   "outputs": [],
   "source": []
  },
  {
   "cell_type": "code",
   "execution_count": null,
   "metadata": {},
   "outputs": [],
   "source": []
  },
  {
   "cell_type": "code",
   "execution_count": null,
   "metadata": {},
   "outputs": [],
   "source": []
  },
  {
   "cell_type": "code",
   "execution_count": null,
   "metadata": {},
   "outputs": [],
   "source": []
  }
 ],
 "metadata": {
  "kernelspec": {
   "display_name": "Python 3",
   "language": "python",
   "name": "python3"
  },
  "language_info": {
   "codemirror_mode": {
    "name": "ipython",
    "version": 3
   },
   "file_extension": ".py",
   "mimetype": "text/x-python",
   "name": "python",
   "nbconvert_exporter": "python",
   "pygments_lexer": "ipython3",
   "version": "3.6.5"
  }
 },
 "nbformat": 4,
 "nbformat_minor": 2
}
