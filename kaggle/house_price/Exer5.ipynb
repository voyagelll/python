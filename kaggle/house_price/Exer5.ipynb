{
 "cells": [
  {
   "cell_type": "code",
   "execution_count": 1,
   "metadata": {},
   "outputs": [
    {
     "name": "stdout",
     "output_type": "stream",
     "text": [
      "mean: 180151.233516,  std: 76670.249891\n",
      "(1456, 80) (1459, 80)\n"
     ]
    }
   ],
   "source": [
    "import pandas as pd \n",
    "pd.set_option('display.max_columns', 100)\n",
    "import numpy as np \n",
    "import seaborn as sns \n",
    "import matplotlib.pyplot as plt\n",
    "from scipy.stats import norm, skew\n",
    "from scipy import stats\n",
    "\n",
    "train_set = pd.read_csv('train.csv')\n",
    "test_set = pd.read_csv('test.csv')\n",
    "\n",
    "train_id = train_set['Id']\n",
    "test_id = test_set['Id']\n",
    "train_set.head()\n",
    "\n",
    "# 移除离群点\n",
    "train_set.drop(train_set[train_set['GrLivArea'] > 4000].index, axis=0, inplace=True)\n",
    "\n",
    "(mean, std) = norm.fit(train_set['SalePrice'])\n",
    "print('mean: %f,  std: %f' % (mean, std))\n",
    "\n",
    "# apply log(1+x) to column SalePrice\n",
    "train_set['SalePrice'] = train_set['SalePrice'].apply(np.log1p)\n",
    "\n",
    "y_train = train_set['SalePrice'].values\n",
    "n_train = train_set.shape[0]\n",
    "n_test = test_set.shape[0]\n",
    "x_train_df = train_set.drop('SalePrice', axis=1)\n",
    "x_test_df = test_set \n",
    "print(x_train_df.shape, x_test_df.shape)\n",
    "\n",
    "## missing data\n",
    "df = pd.concat((x_train_df, x_test_df)).reset_index(drop=True)\n",
    "\n",
    "## input missing value\n",
    "df['PoolQC'].fillna('None', inplace=True)\n",
    "df['MiscFeature'].fillna('None', inplace=True)\n",
    "df['Alley'].fillna('None', inplace=True)\n",
    "df['Fence'].fillna('None', inplace=True)\n",
    "df['FireplaceQu'].fillna('None', inplace=True)\n",
    "\n",
    "# Since the area of each street connected to the house, \n",
    "# probably most likely have a similary area to other houses in its neighboor\n",
    "df['LotFrontage'] = df.groupby('Neighborhood')['LotFrontage'].transform(lambda x: x.fillna(x.median()))\n",
    "\n",
    "for col in ('GarageType', 'GarageFinish', 'GarageQual', 'GarageCond'):\n",
    "    df[col] = df[col].fillna('None')\n",
    "\n",
    "for col in ('GarageYrBlt', 'GarageArea', 'GarageCars'):\n",
    "    df[col] = df[col].fillna(0)\n",
    "\n",
    "for col in ('BsmtFinSF1', 'BsmtFinSF2', 'BsmtUnfSF',\n",
    "           'TotalBsmtSF', 'BsmtFullBath', 'BsmtHalfBath'):\n",
    "    df[col] = df[col].fillna(0)\n",
    "\n",
    "for col in ('BsmtQual', 'BsmtCond', 'BsmtExposure',\n",
    "            'BsmtFinType1', 'BsmtFinType2'):\n",
    "    df[col] = df[col].fillna('None')\n",
    "\n",
    "df['MasVnrType'].fillna('None', inplace=True)\n",
    "df['MasVnrArea'].fillna(0, inplace=True)\n",
    "df['MSZoning'] = df['MSZoning'].fillna(df['MSZoning'].mode()[0])\n",
    "df = df.drop('Utilities', axis=1)\n",
    "df['Functional'].fillna('Typ', inplace=True)\n",
    "\n",
    "df['Electrical'].fillna(df['Electrical'].mode()[0], inplace=True)\n",
    "df['KitchenQual'].fillna(df['KitchenQual'].mode(), inplace=True)\n",
    "df['Exterior1st'] = df['Exterior1st'].fillna(df['Exterior1st'].mode()[0])\n",
    "df['Exterior2nd'] = df['Exterior2nd'].fillna(df['Exterior2nd'].mode()[0])\n",
    "df['SaleType'].fillna(df['SaleType'].mode()[0], inplace=True)\n",
    "df['MSSubClass'].fillna(df['MSSubClass'].mode()[0], inplace=True)\n",
    "\n",
    "df.isnull()[df.isnull() != 0].index\n",
    "\n",
    "df['MSSubClass'] = df['MSSubClass'].apply(str)\n",
    "df['OverallCond'] = df['OverallCond'].astype(str)\n",
    "df['YrSold'] = df['YrSold'].astype(str)\n",
    "df['MoSold'] = df['MoSold'].astype(str)\n",
    "\n",
    "train_set.drop('Id', axis=1, inplace=True)\n",
    "test_set.drop('Id', axis=1, inplace=True)\n",
    "df.drop('Id', axis=1, inplace=True)\n",
    "\n",
    "# label encode\n",
    "# 将特征稀疏的特征，在本列编码\n",
    "from sklearn.preprocessing import LabelEncoder \n",
    "\n",
    "cols = ('FireplaceQu', 'BsmtQual', 'BsmtCond', 'GarageQual', 'GarageCond',\n",
    "       'ExterQual', 'ExterCond', 'HeatingQC', 'PoolQC', 'KitchenQual', \n",
    "       'BsmtFinType1', 'BsmtFinType2', 'Functional', 'Fence', 'BsmtExposure',\n",
    "       'GarageFinish', 'LandSlope', 'LotShape', 'PavedDrive', 'Street', 'Alley',\n",
    "       'CentralAir', 'MSSubClass', 'OverallCond', 'YrSold', 'MoSold')\n",
    "\n",
    "for col in cols:\n",
    "    le = LabelEncoder()\n",
    "    le.fit(list(df[col].values))\n",
    "    df[col] = le.transform(list(df[col].values))\n",
    "\n",
    "# # dummies\n",
    "# df = pd.get_dummies(df)\n",
    "\n",
    "# x_train = df[:n_train].values\n",
    "# x_test = df[n_train:].values"
   ]
  },
  {
   "cell_type": "markdown",
   "metadata": {},
   "source": [
    "## modeling"
   ]
  },
  {
   "cell_type": "code",
   "execution_count": null,
   "metadata": {},
   "outputs": [],
   "source": [
    "from sklearn.linear_model import ElasticNetCV, LassoCV, RidgeCV\n",
    "from sklearn.ensemble import GradientBoostingRegressor \n",
    "from sklearn.svm import SVR \n",
    "from sklearn.pipeline import make_pipeline \n",
    "from sklearn.preprocessing import RobustScaler \n",
    "from sklearn.model_selection import KFold, cross_val_score \n",
    "from sklearn.metrics import mean_squared_error \n",
    "from mlxtend.regressor import StackingCVRegressor \n",
    "from xgboost import XGBRegressor \n",
    "from lightgbm import LGBMRegressor \n",
    "\n",
    "\n",
    "kfold = KFold(n_splits=10, shuffle=True, random_state=42)\n",
    "\n",
    "def remsle(y, y_pred):\n",
    "    return np.sqrt(mean_squared_error(y, y_pred))\n",
    "\n",
    "def cv_rmse(model, X=x_train):\n",
    "    error = 'neg_mean_squared_error'\n",
    "    rmse = np.sqrt(-cross_val_score(model, X, y_train, scoring='neg_mean_squared_error', cv=kfolds))\n",
    "    return rmse \n",
    "\n",
    "# # ridge\n",
    "alpha_ridge = [14, 14.3, 14.6, 14.9, 15.2, 15.5]\n",
    "ridge = make_pipeline(RobustScaler(), RidgeCV(alphas=alpha_ridge, cv=kfold))\n",
    "# #lasso\n",
    "alpha_lasso = [0.0001, 0.0003, 0.001, 0.003, 0.01]\n",
    "lasso = make_pipeline(RobustScaler(), LassoCV(max_iter=1e5, \n",
    "                                                alphas=alpha_lasso, \n",
    "                                                random_state=42, \n",
    "                                                cv=kfolds))\n",
    "# # elaticnet\n",
    "alpha_ela = [0.0001, 0.0003, 0.001, 0.003, 0.01]\n",
    "e_l1ratio = [0.8, 0.85, 0.9, 0.95, 1]\n",
    "elasticnet = make_pipeline(RobustScaler(), ElasticNetCV(max_iter=1e5, \n",
    "                                                          alphas=alpha_ela, \n",
    "                                                          cv=kfolds, \n",
    "                                                          l1_ratio=e_l1ratio))\n",
    "# svr\n",
    "svr = make_pipeline(RobustScaler(), SVR(C=0.4, \n",
    "                                         epsilon=0.008,\n",
    "                                         gamma=0.0003))\n",
    "# # gradientboostregressor\n",
    "gbr = GradientBoostingRegressor(n_estimators=3000, \n",
    "                                learning_rate=0.05, \n",
    "                               max_depth=4,\n",
    "                               max_features='sqrt',\n",
    "                               min_samples_leaf=15,\n",
    "                               min_samples_split=10,\n",
    "                               loss='huber',\n",
    "                               random_state=42)\n",
    "\n",
    "# ligbtgbm\n",
    "lgb = LGBMRegressor(objective='regression',\n",
    "                   learning=0.01,\n",
    "                    e_estimators=5000,\n",
    "                    max_depth=4,\n",
    "                    num_leaves=3,\n",
    "                    feature_fraction=0.2,\n",
    "                    cat_smooth=0,\n",
    "                    bagging_fraction=0.9,\n",
    "                    bagging_fraq=3,\n",
    "                    verbose=-1\n",
    "                   )\n",
    "# xgboost\n",
    "xgb = XGBRegressor(learning_rate=0.01,\n",
    "                   n_estimators=3460,\n",
    "                   max_depth=3, \n",
    "                   min_child_weight=0,\n",
    "                   gamma=0, \n",
    "                   subsample=0.7,\n",
    "                   colsample_bytree=0.7,\n",
    "                   objective='reg:squarederror',\n",
    "                   nthread=-1,\n",
    "                   scale_pos_weight=1,\n",
    "                   seed=27,\n",
    "                   reg_alpha=0.00006)\n",
    "# stack model\n",
    "stack_gen = StackingCVRegressor(regressors=(ridge, lasso, elasticnet, gbr, lgb, xgb),\n",
    "                               meta_regressor=lgb,\n",
    "                               use_features_in_secondary=True)\n",
    "\n",
    "# score = cv_rmse(ridge)\n",
    "# print('ridge 模型得分：{:.4f} ({:.4f})'.format(score.mean(), score.std()))\n",
    "\n",
    "# score = cv_rmse(lasso)\n",
    "# print('lasso 模型得分：{:.4f} ({:.4f})'.format(score.mean(), score.std()))\n",
    "\n",
    "# score = cv_rmse(elasticnet)\n",
    "# print('elasticnet 模型得分：{:.4f} ({:.4f})'.format(score.mean(), score.std()))\n",
    "\n",
    "# score = cv_rmse(svr)\n",
    "# print('svr 模型得分：{:.4f} ({:.4f})'.format(score.mean(), score.std()))\n",
    "\n",
    "# score = cv_rmse(gbr)\n",
    "# print('gradientboostregressor 模型得分：{:.4f} ({:.4f})'.format(score.mean(), score.std()))\n",
    "\n",
    "# score = cv_rmse(lgb)\n",
    "# print('lightgbm 模型得分：{:.4f} ({:.4f})'.format(score.mean(), score.std()))\n",
    "\n",
    "# score = cv_rmse(xgb)\n",
    "# print('xgboost 模型得分：{:.4f} ({:.4f})'.format(score.mean(), score.std()))\n",
    "\n",
    "# score = cv_rmse(stack_gen)\n",
    "# print('stacken model 模型得分：{:.4f} ({:.4f})'.format(score.mean(), score.std()))"
   ]
  },
  {
   "cell_type": "code",
   "execution_count": 324,
   "metadata": {},
   "outputs": [],
   "source": [
    "# 用调好参数的模型拟合训练全部数据\n",
    "# ridge_ = ridge.fit(x_train, y_train)\n",
    "# lasso_ = lasso.fit(x_train, y_train)\n",
    "# elasticnet_ = elasticnet.fit(x_train, y_train)\n",
    "# svr_ = svr.fit(x_train, y_train)\n",
    "# gbr_ = gbr.fit(x_train, y_train)\n",
    "# lgb_ = lgb.fit(x_train, y_train)\n",
    "# xgb_ = xgb.fit(x_train, y_train)\n",
    "\n",
    "def blend_models_predict(x_test):\n",
    "    return ((0.1 * elasticnet.predict(x_test))+\n",
    "            (0.1 * ridge.predict(x_test))+\n",
    "            (0.1 * lasso.predict(x_test))+\n",
    "            (0.0 * svr.predict(x_test))+\n",
    "            (0.1 * gbr.predict(x_test))+\n",
    "            (0.1 * lgb.predict(x_test))+\n",
    "            (0.5 * xgb.predict(x_test))\n",
    "#             0.1 * elasticnet_.predict(x_test),\n",
    "           )\n",
    "\n",
    "# 融合后，训练模型对元数据拟合时均方根误差\n",
    "# print('训练数据拟合的均方根误差：', remsle(y_train, blend_models_predict(x_train)))"
   ]
  },
  {
   "cell_type": "code",
   "execution_count": 323,
   "metadata": {
    "scrolled": true
   },
   "outputs": [
    {
     "data": {
      "text/plain": [
       "array([11.729377, 12.005816, 12.131836, ..., 11.967694, 11.656274,\n",
       "       12.327476], dtype=float32)"
      ]
     },
     "execution_count": 323,
     "metadata": {},
     "output_type": "execute_result"
    }
   ],
   "source": [
    "xgb.predict(x_test)"
   ]
  },
  {
   "cell_type": "code",
   "execution_count": 325,
   "metadata": {},
   "outputs": [],
   "source": [
    "predictions = np.expm1(blend_models_predict(x_test))\n",
    "submission = pd.DataFrame()\n",
    "submission['Id'] = test_id\n",
    "submission['SalePrice'] = predictions\n",
    "submission.to_csv('submission_2020_03_01.csv', index=False)"
   ]
  },
  {
   "cell_type": "code",
   "execution_count": null,
   "metadata": {},
   "outputs": [],
   "source": [
    "submission"
   ]
  },
  {
   "cell_type": "code",
   "execution_count": null,
   "metadata": {},
   "outputs": [],
   "source": [
    "# svr 调参\n",
    "paramaters = {\n",
    "    'C':[0.01, 0.03, 0.1, 0.3, 1, 3, 10],\n",
    "    'gamma': [0.001, 0.003, 0.01, 0.03, 0.1],\n",
    "}\n",
    "\n",
    "svr = SVR(kernel='linear')\n",
    "gscv_svr = GridSearchCV(svr,\n",
    "                       param_grid = paramaters,\n",
    "                       cv=5,\n",
    "                       verbose=-1)\n",
    "gscv_svr.fit(x_train, y_train)"
   ]
  },
  {
   "cell_type": "code",
   "execution_count": null,
   "metadata": {},
   "outputs": [],
   "source": [
    "paramaters = {\n",
    "    'max_depth': [4],\n",
    "    'num_leaves': [3],\n",
    "    'feature_fraction': [0.2],\n",
    "    'cat_smmoth': [1],\n",
    "    'bagging_fraction': [0.9],\n",
    "    'bagging_fraq': [3]\n",
    "}\n",
    "\n",
    "gbm = lgb.LGBMRegressor(\n",
    "                objective = 'regression',\n",
    "                learning_rate = 0.01,\n",
    "                n_estimators = 5000,\n",
    "                verbose = -1\n",
    ")\n",
    "\n",
    "gscv = GridSearchCV(gbm,\n",
    "                   param_grid = paramaters,\n",
    "                   cv = 5,\n",
    "                   n_jobs = -1)\n",
    "\n",
    "gscv.fit(x_train, y_train)"
   ]
  },
  {
   "cell_type": "markdown",
   "metadata": {},
   "source": [
    "## modeling"
   ]
  },
  {
   "cell_type": "code",
   "execution_count": 201,
   "metadata": {
    "scrolled": false
   },
   "outputs": [
    {
     "name": "stdout",
     "output_type": "stream",
     "text": [
      "linear_reg:-0.015115 (0.004384)\n",
      "knn:-0.048823 (0.005244)\n",
      "SVR:-0.156528 (0.020539)\n",
      "decision_tree:-0.037592 (0.007852)\n"
     ]
    },
    {
     "data": {
      "image/png": "[encoded data removed]",
      "text/plain": [
       "<Figure size 432x288 with 1 Axes>"
      ]
     },
     "metadata": {},
     "output_type": "display_data"
    }
   ],
   "source": [
    "from sklearn.linear_model import LinearRegression\n",
    "from sklearn.neighbors import KNeighborsRegressor\n",
    "from sklearn.svm import SVR \n",
    "from sklearn.tree import DecisionTreeRegressor \n",
    "\n",
    "from sklearn.model_selection import KFold \n",
    "from sklearn.model_selection import cross_val_score\n",
    "\n",
    "models = []\n",
    "models.append(('linear_reg', LinearRegression()))\n",
    "models.append(('knn', KNeighborsRegressor()))\n",
    "models.append(('SVR', SVR()))\n",
    "models.append(('decision_tree', DecisionTreeRegressor()))\n",
    "\n",
    "names = []\n",
    "predictions = []\n",
    "error = 'neg_mean_squared_error'\n",
    "for name, model in models:\n",
    "    fold = KFold(n_splits=10, random_state=0)\n",
    "    result = cross_val_score(model, x_train, y_train, cv=fold, scoring=error)\n",
    "    predictions.append(result)\n",
    "    names.append(name)\n",
    "    msg = '%s:%f (%f)' % (name, result.mean(), result.std())\n",
    "    print(msg)\n"
   ]
  },
  {
   "cell_type": "markdown",
   "metadata": {},
   "source": [
    "## Create pipeline with Standardization scale and models \n",
    "\n",
    "### Standardize the dataset"
   ]
  },
  {
   "cell_type": "code",
   "execution_count": 202,
   "metadata": {},
   "outputs": [
    {
     "name": "stdout",
     "output_type": "stream",
     "text": [
      "scaler_lg: -42299828435270451200.000000 (111249075729436999680.000000)\n",
      "scale_KNN: -0.039544 (0.008133)\n",
      "scale_SVR: -0.031837 (0.007543)\n",
      "scale_decision: -0.038644 (0.008253)\n",
      "[array([-2.35386430e+16, -2.10108418e+17, -4.28381611e+18, -3.71453484e+15,\n",
      "       -2.35728473e+18, -5.50305990e+17, -3.76904730e+18, -1.09732242e+18,\n",
      "       -3.74582364e+20, -3.61207825e+19]), array([-0.03775905, -0.04253397, -0.04238442, -0.04563515, -0.05259116,\n",
      "       -0.02740558, -0.04524507, -0.02692457, -0.03091265, -0.04404923]), array([-0.03696491, -0.02866518, -0.03998731, -0.03476248, -0.04472446,\n",
      "       -0.02519728, -0.03448589, -0.01978869, -0.02207881, -0.03171623]), array([-0.04559179, -0.04219368, -0.03927766, -0.0459086 , -0.04406778,\n",
      "       -0.02143378, -0.03340501, -0.04624315, -0.02654237, -0.04178102])]\n"
     ]
    },
    {
     "data": {
      "image/png": "[encoded data removed]",
      "text/plain": [
       "<Figure size 432x288 with 1 Axes>"
      ]
     },
     "metadata": {},
     "output_type": "display_data"
    }
   ],
   "source": [
    "from sklearn.pipeline import Pipeline\n",
    "from sklearn.preprocessing import StandardScaler, MinMaxScaler \n",
    "\n",
    "pipelines = []\n",
    "pipelines.append(('scaler_lg', Pipeline([('scaler', MinMaxScaler()), ('lg', LinearRegression())])))\n",
    "pipelines.append(('scale_KNN', Pipeline([('scaler', StandardScaler()), ('KNN', KNeighborsRegressor())])))\n",
    "pipelines.append(('scale_SVR', Pipeline([('scaler', StandardScaler()), ('SVR', SVR())])))\n",
    "pipelines.append(('scale_decision', Pipeline([('scaler', StandardScaler()), ('decision', DecisionTreeRegressor())])))\n",
    "\n",
    "predictions = []\n",
    "names = []\n",
    "for name, model in pipelines:\n",
    "    fold = KFold(n_splits=10, random_state=5)\n",
    "    result = cross_val_score(model, x_train, y_train, cv=fold, scoring=error)\n",
    "    predictions.append(result)\n",
    "    names.append(name)\n",
    "    msg = '%s: %f (%f)' % (name, result.mean(), result.std())\n",
    "    print(msg)"
   ]
  },
  {
   "cell_type": "code",
   "execution_count": 211,
   "metadata": {
    "scrolled": true
   },
   "outputs": [
    {
     "name": "stdout",
     "output_type": "stream",
     "text": [
      "Best: -0.015294 useing {'C': 0.4, 'kernel': 'linear'}\n"
     ]
    }
   ],
   "source": [
    "# SVR tuning \n",
    "from sklearn.model_selection import GridSearchCV\n",
    "\n",
    "scaler = StandardScaler().fit(x_train)\n",
    "rescaledx = scaler.transform(x_train)\n",
    "\n",
    "param_grid = {\n",
    "    'kernel': ['linear', 'poly', 'rbf', 'sigmoid'],\n",
    "    'C': [0.2, 0.4, 0.6, 0.8, 1.0]\n",
    "}\n",
    "\n",
    "model = SVR()\n",
    "fold = KFold(n_splits=10, random_state=42)\n",
    "\n",
    "grid = GridSearchCV(estimator=model,\n",
    "                   param_grid=param_grid,\n",
    "                   scoring=error,\n",
    "                   cv=fold)\n",
    "grid_result = grid.fit(rescaledx, y_train)\n",
    "print('Best: %f useing %s' % (grid_result.best_score_, grid_result.best_params_))"
   ]
  },
  {
   "cell_type": "code",
   "execution_count": 212,
   "metadata": {},
   "outputs": [
    {
     "name": "stdout",
     "output_type": "stream",
     "text": [
      "Best: -0.038076 using {'criterion': 'friedman_mse'}\n"
     ]
    }
   ],
   "source": [
    "# DecisionTreeRegressor Tuning\n",
    "scaler = StandardScaler().fit(x_train)\n",
    "rescalex = scaler.transform(x_train)\n",
    "\n",
    "criterion = ['mse', 'friedman_mse', 'mae']\n",
    "param_grid = dict(criterion = criterion)\n",
    "\n",
    "model = DecisionTreeRegressor()\n",
    "fold = KFold(n_splits=10, random_state=42)\n",
    "grid = GridSearchCV(estimator=model,\n",
    "                   param_grid = param_grid,\n",
    "                   scoring = error,\n",
    "                   cv=fold)\n",
    "grid_result = grid.fit(rescaledx, y_train)\n",
    "\n",
    "print(\"Best: %f using %s\" % (grid_result.best_score_, grid_result.best_params_))"
   ]
  },
  {
   "cell_type": "code",
   "execution_count": 214,
   "metadata": {},
   "outputs": [
    {
     "name": "stdout",
     "output_type": "stream",
     "text": [
      "scaledAB : -0.029019 (0.003039)\n",
      "scaledGBR : -0.015235 (0.004337)\n",
      "scaledRF : -0.020676 (0.003583)\n",
      "scaledETR : -0.019509 (0.004989)\n"
     ]
    },
    {
     "data": {
      "image/png": "[encoded data removed]",
      "text/plain": [
       "<Figure size 432x288 with 1 Axes>"
      ]
     },
     "metadata": {},
     "output_type": "display_data"
    }
   ],
   "source": [
    "# Ensemble and Boosting algorithm to improve performance \n",
    "from sklearn.ensemble import AdaBoostRegressor \n",
    "from sklearn.ensemble import GradientBoostingRegressor \n",
    "from sklearn.ensemble import RandomForestRegressor \n",
    "from sklearn.ensemble import ExtraTreesRegressor \n",
    "\n",
    "ensembles = []\n",
    "ensembles.append(('scaledAB', Pipeline([('scale', StandardScaler()), ('AB', AdaBoostRegressor())])))\n",
    "ensembles.append(('scaledGBR', Pipeline([('scale', StandardScaler()), ('GBR', GradientBoostingRegressor())])))\n",
    "ensembles.append(('scaledRF', Pipeline([('scale', StandardScaler()), ('RF', RandomForestRegressor())])))\n",
    "ensembles.append(('scaledETR', Pipeline([('scale', StandardScaler()), ('ETR', ExtraTreesRegressor())])))\n",
    "\n",
    "results = []\n",
    "names = []\n",
    "for name, model in ensembles:\n",
    "    fold = KFold(n_splits=10, random_state=5)\n",
    "    result = cross_val_score(model, x_train, y_train, cv=fold, scoring=error)\n",
    "    results.append(result)\n",
    "    names.append(name)\n",
    "    msg = '%s : %f (%f)'% (name, result.mean(), result.std())\n",
    "    print(msg)\n",
    "\n",
    "fig = plt.figure()\n",
    "fig.suptitle('Ensemble Compared Algorithms')\n",
    "plt.boxplot(results)\n",
    "plt.show()"
   ]
  },
  {
   "cell_type": "code",
   "execution_count": 258,
   "metadata": {
    "scrolled": true
   },
   "outputs": [],
   "source": [
    "# ExtraTreesRegressor Tuning \n",
    "scaler = StandardScaler().fit(x_train)\n",
    "rescaledx = scaler.transform(x_train)\n",
    "\n",
    "n_estimators = [5, 10, 20, 30, 40, 50, 100, 200]\n",
    "param_grid = dict(n_estimators=n_estimators)\n",
    "model = ExtraTreesRegressor()\n",
    "fold = KFold(n_splits=10, random_state=5)\n",
    "grid_etr = GridSearchCV(estimator=model, param_grid=param_grid, scoring=error-, cv=fold)\n",
    "grid_etr = grid_etr.fit(x_train, y_train)\n",
    "\n",
    "# print('Best: %f using %s' % (grid_result.best_score_, grid_result.best_params_))"
   ]
  },
  {
   "cell_type": "code",
   "execution_count": 259,
   "metadata": {},
   "outputs": [
    {
     "name": "stdout",
     "output_type": "stream",
     "text": [
      "-0.017118454433971274\n"
     ]
    },
    {
     "data": {
      "text/plain": [
       "array([113766.19226501, 152389.79076575, 174738.45604329, ...,\n",
       "       146615.91406782, 112115.41260962, 226064.29725796])"
      ]
     },
     "execution_count": 259,
     "metadata": {},
     "output_type": "execute_result"
    }
   ],
   "source": [
    "print(grid_etr.best_score_)\n",
    "\n",
    "etr_pred = np.expm1(grid_etr.best_estimator_.predict(x_test))\n",
    "etr_pred"
   ]
  },
  {
   "cell_type": "code",
   "execution_count": 260,
   "metadata": {},
   "outputs": [
    {
     "data": {
      "text/plain": [
       "0.13083751157054033"
      ]
     },
     "execution_count": 260,
     "metadata": {},
     "output_type": "execute_result"
    }
   ],
   "source": [
    "np.sqrt(0.017118454433971274)"
   ]
  },
  {
   "cell_type": "code",
   "execution_count": 223,
   "metadata": {},
   "outputs": [
    {
     "name": "stdout",
     "output_type": "stream",
     "text": [
      "Best: -0.014804 using: {'learning_rate': 0.2, 'n_estimators': 200}\n"
     ]
    }
   ],
   "source": [
    "# GradientBoostingRegressor Tuning \n",
    "scaler = StandardScaler().fit(x_train)\n",
    "rescaledx = scaler.transform(x_train)\n",
    "\n",
    "learning_rate = [0.1, 0.2, 0.3, 0.4, 0.5]\n",
    "n_estimators = [5, 10, 20, 30, 40, 50, 100, 200]\n",
    "param_grid = dict(n_estimators=n_estimators, learning_rate=learning_rate)\n",
    "\n",
    "model = GradientBoostingRegressor()\n",
    "fold = KFold(n_splits=10, random_state=5)\n",
    "grid = GridSearchCV(estimator=model, param_grid=param_grid, scoring=error, cv=fold)\n",
    "grid_result = grid.fit(rescaledx, y_train)\n",
    "\n",
    "print(\"Best: %f using: %s\" % (grid_result.best_score_, grid_result.best_params_))"
   ]
  },
  {
   "cell_type": "code",
   "execution_count": 255,
   "metadata": {},
   "outputs": [],
   "source": [
    "grid_gbr = grid.best_estimator_.fit(x_train, y_train)\n",
    "gbr_pred = np.expm1(grid_gbr.predict(x_test))"
   ]
  },
  {
   "cell_type": "markdown",
   "metadata": {},
   "source": [
    "## Finalize Model"
   ]
  },
  {
   "cell_type": "code",
   "execution_count": 230,
   "metadata": {},
   "outputs": [],
   "source": [
    "from sklearn.metrics import mean_squared_error \n",
    "\n",
    "scaler = StandardScaler().fit(x_train)\n",
    "scaler_x = scaler.transform(x_train)\n",
    "model = GradientBoostingRegressor(random_state=5, n_estimators=200, learning_rate=0.2)\n",
    "model.fit(scaler_x, y_train)\n",
    "\n",
    "scaledx_test = scaler.transform(x_test)\n",
    "y_pred = model.predict(scaledx_test)"
   ]
  },
  {
   "cell_type": "code",
   "execution_count": 239,
   "metadata": {},
   "outputs": [],
   "source": [
    "sub = pd.DataFrame()\n",
    "sub['Id'] = test_id \n",
    "sub['SalePrice'] = np.expm1(y_pred)*1.01\n",
    "sub.to_csv('submission_2020_02_29.csv', index=False)"
   ]
  },
  {
   "cell_type": "code",
   "execution_count": null,
   "metadata": {},
   "outputs": [],
   "source": [
    "# lightgbm\n",
    "import lightgbm as lgb \n",
    "\n",
    "paramaters = {\n",
    "    'max_depth': [4],\n",
    "    'num_leaves': [3],\n",
    "    'feature_fraction': [0.2],\n",
    "    'cat_smmoth': [1],\n",
    "    'bagging_fraction': [0.9],\n",
    "    'bagging_fraq': [3],\n",
    "    'cat_smooth': [0]\n",
    "}\n",
    "\n",
    "gbm = lgb.LGBMRegressor(\n",
    "                objective = 'regression',\n",
    "                learning_rate = 0.01,\n",
    "                n_estimators = 5000,\n",
    "                verbose = -1\n",
    ")\n",
    "\n",
    "gscv = GridSearchCV(gbm,\n",
    "                   param_grid = paramaters,\n",
    "                   cv = 5,\n",
    "                   n_jobs = -1)\n",
    "\n",
    "gscv.fit(x_train, y_train)"
   ]
  },
  {
   "cell_type": "code",
   "execution_count": null,
   "metadata": {},
   "outputs": [],
   "source": [
    "gscv.best_score_"
   ]
  },
  {
   "cell_type": "code",
   "execution_count": null,
   "metadata": {},
   "outputs": [],
   "source": [
    "lgb_pred = np.expm1(gscv.best_estimator_.predict(x_test))\n",
    "\n",
    "sub = pd.DataFrame()\n",
    "sub['Id'] = test_id \n",
    "sub['SalePrice'] = 0.7*lgb_pred + 0.2*gbr_pred + 0.1*etr_pred\n",
    "sub.to_csv('submission_2020_02_29.csv', index=False)"
   ]
  },
  {
   "cell_type": "code",
   "execution_count": null,
   "metadata": {},
   "outputs": [],
   "source": []
  }
 ],
 "metadata": {
  "kernelspec": {
   "display_name": "Python 3",
   "language": "python",
   "name": "python3"
  },
  "language_info": {
   "codemirror_mode": {
    "name": "ipython",
    "version": 3
   },
   "file_extension": ".py",
   "mimetype": "text/x-python",
   "name": "python",
   "nbconvert_exporter": "python",
   "pygments_lexer": "ipython3",
   "version": "3.8.3"
  }
 },
 "nbformat": 4,
 "nbformat_minor": 2
}
