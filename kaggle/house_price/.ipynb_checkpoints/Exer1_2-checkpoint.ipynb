{
 "cells": [
  {
   "cell_type": "code",
   "execution_count": 58,
   "metadata": {},
   "outputs": [
    {
     "data": {
      "image/png": "[encoded data removed]",
      "text/plain": [
       "<Figure size 432x288 with 2 Axes>"
      ]
     },
     "metadata": {},
     "output_type": "display_data"
    }
   ],
   "source": [
    "import pandas as pd \n",
    "import numpy as np \n",
    "import seaborn as sns\n",
    "import matplotlib \n",
    "import matplotlib.pyplot as plt\n",
    "from scipy.stats import skew\n",
    "from scipy.stats.stats import pearsonr\n",
    "\n",
    "# 读取数据集\n",
    "train = pd.read_csv('train.csv')\n",
    "test = pd.read_csv('test.csv')\n",
    "\n",
    "# 合并训练集和测试机\n",
    "all_data = pd.concat((train.loc[:,\"MSSubClass\":\"SaleCondition\"],\n",
    "                     test.loc[:, \"MSSubClass\":\"SaleCondition\"]))\n",
    "\n",
    "prices = pd.DataFrame({'price':train['SalePrice'], 'log(price+1)':np.log1p(train['SalePrice'])})\n",
    "# prices.hist()\n",
    "\n",
    "train['SalePrice'] = np.log1p(train['SalePrice'])\n",
    "numeric_feats = all_data.dtypes[all_data.dtypes!='object'].index\n",
    "skewed_feats = train[numeric_feats].apply(lambda x: skew(x.dropna()))\n",
    "skewed_feats = skewed_feats[skewed_feats > 0.5]\n",
    "skewed_feats = skewed_feats.index\n",
    "all_data[skewed_feats] = np.log1p(all_data[skewed_feats])\n",
    "\n",
    "all_data = pd.get_dummies(all_data)\n",
    "all_data = all_data.fillna(all_data.mean())\n",
    "\n",
    "X_train = all_data[:train.shape[0]]\n",
    "X_test = all_data[train.shape[0]:]\n",
    "y = train[\"SalePrice\"]\n",
    "\n",
    "\n",
    "\n",
    "## Models\n",
    "from sklearn.linear_model import Ridge, RidgeCV,ElasticNet, LassoCV, LassoLarsCV\n",
    "from sklearn.model_selection import cross_val_score, train_test_split\n",
    "from sklearn.preprocessing import StandardScaler, RobustScaler\n",
    "from sklearn.pipeline import make_pipeline \n",
    "\n",
    "def rmse_cv(model):\n",
    "    rmse = np.sqrt(-cross_val_score(model, X_train, y, scoring='neg_mean_squared_error', cv=5))\n",
    "    return rmse\n",
    "\n",
    "\n",
    "\"\"\"\n",
    "    Ridge\n",
    "\"\"\"\n",
    "# model_ridge = Ridge()\n",
    "# alphas = [0.03, 0.1, 0.3, 1, 3, 5, 10, 15, 30, 50, 100]\n",
    "# cv_ridge = [rmse_cv(Ridge(alpha=alpha)).mean() for alpha in alphas]\n",
    "\n",
    "# cv_ridge = pd.Series(cv_ridge, index=alphas)\n",
    "# cv_ridge.plot(title = 'Validation - Just Do it')\n",
    "# plt.xlabel('alpha')\n",
    "# plt.ylabel('rmse')\n",
    "\n",
    "\n",
    "\"\"\"\n",
    "    Lasso\n",
    "\"\"\"\n",
    "# alphas = [1,0.3,0.1,0.03,0.01,0.003,0.001,0.0003,0.0001,0.00003,0.00001,0.000003]\n",
    "# model_lasso = LassoCV(alphas=alphas, max_iter=50000).fit(X_train, y)\n",
    "# rmse_cv(model_lasso).mean()\n",
    "# preds = model_lasso.predict(X_test)\n",
    "# solution = pd.DataFrame({'id':test.Id, 'SalePrice':np.expm1(preds)})\n",
    "# solution.to_csv('linear_col.csv', index=False)\n",
    "\n",
    "# for alpha in alphas:\n",
    "#     model_lasso = LassoCV(alpha, max_iter=50000).fit(X_train, y)\n",
    "#     res = rmse_cv(model_lasso)\n",
    "#     print(alpha, res, res.mean())\n",
    "# model_lasso = LassoCV(0.00001, max_iter=50000).fit(X_train, y)\n",
    "# preds = model_lasso.predict(X_test)\n",
    "# solution = pd.DataFrame({'id':test.Id, 'SalePrice':np.expm1(preds)})\n",
    "# solution.to_csv('submission_2019_12_18.csv', index=False)\n",
    "\n",
    "model_lasso = make_pipeline(RobustScaler(), LassoCV(0.00001, max_iter=50000))\n",
    "model_lasso = model_lasso.fit(X_train, y)\n",
    "# print(rmse_cv(model_lasso))\n",
    "preds = model_lasso.predict(X_test)\n",
    "solution = pd.DataFrame({'id':test.Id, 'SalePrice':np.expm1(preds)})\n",
    "solution.to_csv('submission_2019_12_18_2.csv', index=False)"
   ]
  },
  {
   "cell_type": "code",
   "execution_count": null,
   "metadata": {},
   "outputs": [],
   "source": []
  }
 ],
 "metadata": {
  "kernelspec": {
   "display_name": "Python 3",
   "language": "python",
   "name": "python3"
  },
  "language_info": {
   "codemirror_mode": {
    "name": "ipython",
    "version": 3
   },
   "file_extension": ".py",
   "mimetype": "text/x-python",
   "name": "python",
   "nbconvert_exporter": "python",
   "pygments_lexer": "ipython3",
   "version": "3.6.5"
  }
 },
 "nbformat": 4,
 "nbformat_minor": 2
}
